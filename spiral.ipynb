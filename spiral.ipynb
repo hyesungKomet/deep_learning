{
  "nbformat": 4,
  "nbformat_minor": 0,
  "metadata": {
    "colab": {
      "name": "spiral.ipynb",
      "provenance": [],
      "mount_file_id": "1fPwT4spsWrCMNmL8QnmcaBieb_gkbV74",
      "authorship_tag": "ABX9TyOzvmsbQ1TyY8ICOAY5Xk2v",
      "include_colab_link": true
    },
    "kernelspec": {
      "name": "python3",
      "display_name": "Python 3"
    },
    "language_info": {
      "name": "python"
    }
  },
  "cells": [
    {
      "cell_type": "markdown",
      "metadata": {
        "id": "view-in-github",
        "colab_type": "text"
      },
      "source": [
        "<a href=\"https://colab.research.google.com/github/hyesungKomet/deep_learning/blob/main/spiral.ipynb\" target=\"_parent\"><img src=\"https://colab.research.google.com/assets/colab-badge.svg\" alt=\"Open In Colab\"/></a>"
      ]
    },
    {
      "cell_type": "markdown",
      "metadata": {
        "id": "NsmfoGeq-Z91"
      },
      "source": [
        "## git clone"
      ]
    },
    {
      "cell_type": "code",
      "metadata": {
        "colab": {
          "base_uri": "https://localhost:8080/"
        },
        "id": "qkIifN2G9dKY",
        "outputId": "214d78ae-31eb-4df0-d8b2-e99a5c22b9f5"
      },
      "source": [
        "%cd /content/drive/MyDrive/machine_learning"
      ],
      "execution_count": 4,
      "outputs": [
        {
          "output_type": "stream",
          "text": [
            "/content/drive/MyDrive/machine_learning\n"
          ],
          "name": "stdout"
        }
      ]
    },
    {
      "cell_type": "code",
      "metadata": {
        "colab": {
          "base_uri": "https://localhost:8080/"
        },
        "id": "SbXbgWyO9owV",
        "outputId": "3be407ae-ec75-400a-a682-c2f3668c18b5"
      },
      "source": [
        "!git clone https://github.com/hyesungKomet/deep-learning-from-scratch-2.git"
      ],
      "execution_count": 5,
      "outputs": [
        {
          "output_type": "stream",
          "text": [
            "Cloning into 'deep-learning-from-scratch-2'...\n",
            "remote: Enumerating objects: 75, done.\u001b[K\n",
            "remote: Counting objects: 100% (75/75), done.\u001b[K\n",
            "remote: Compressing objects: 100% (62/62), done.\u001b[K\n",
            "remote: Total 75 (delta 11), reused 75 (delta 11), pack-reused 0\u001b[K\n",
            "Unpacking objects: 100% (75/75), done.\n"
          ],
          "name": "stdout"
        }
      ]
    },
    {
      "cell_type": "code",
      "metadata": {
        "colab": {
          "base_uri": "https://localhost:8080/"
        },
        "id": "s2TCoTwf-JUu",
        "outputId": "c7f60ed7-234e-4c35-d928-7b0c57d0d101"
      },
      "source": [
        "%cd deep-learning-from-scratch-2"
      ],
      "execution_count": 6,
      "outputs": [
        {
          "output_type": "stream",
          "text": [
            "/content/drive/My Drive/machine_learning/deep-learning-from-scratch-2\n"
          ],
          "name": "stdout"
        }
      ]
    },
    {
      "cell_type": "markdown",
      "metadata": {
        "id": "mMXbGry2BxtA"
      },
      "source": [
        "## spiral dataset 살펴보기"
      ]
    },
    {
      "cell_type": "code",
      "metadata": {
        "id": "nlC91nx7-UQq"
      },
      "source": [
        "import sys\n",
        "sys.path.append ('..')\n",
        "from dataset import spiral"
      ],
      "execution_count": 7,
      "outputs": []
    },
    {
      "cell_type": "code",
      "metadata": {
        "colab": {
          "base_uri": "https://localhost:8080/"
        },
        "id": "UnjMcMLhAeXN",
        "outputId": "e1bcfcfd-289e-429b-bd05-6135dcd5ba89"
      },
      "source": [
        "import matplotlib.pyplot as plt\n",
        "\n",
        "x, t = spiral.load_data()\n",
        "print('x', x.shape) #(300, 2)\n",
        "print('t', t.shape) #(300, 3)"
      ],
      "execution_count": 8,
      "outputs": [
        {
          "output_type": "stream",
          "text": [
            "x (300, 2)\n",
            "t (300, 3)\n"
          ],
          "name": "stdout"
        }
      ]
    },
    {
      "cell_type": "code",
      "metadata": {
        "colab": {
          "base_uri": "https://localhost:8080/",
          "height": 265
        },
        "id": "vHqbdzD7AuGv",
        "outputId": "6ef93863-601e-4c3e-d147-1dd0c2ac6c0e"
      },
      "source": [
        "N = 100\n",
        "CLS_NUM = 3\n",
        "markers = ['o', 'x', '^']\n",
        "for i in range(CLS_NUM):\n",
        "  plt.scatter(x[i*N: (i+1) * N, 0], x[i*N: (i+1)*N,1], s=40, marker = markers[i])\n",
        "plt.show()"
      ],
      "execution_count": 9,
      "outputs": [
        {
          "output_type": "display_data",
          "data": {
            "image/png": "[encoded data removed]",
            "text/plain": [
              "<Figure size 432x288 with 1 Axes>"
            ]
          },
          "metadata": {
            "tags": [],
            "needs_background": "light"
          }
        }
      ]
    },
    {
      "cell_type": "markdown",
      "metadata": {
        "id": "3XsDcq4UB1pO"
      },
      "source": [
        "## Scatter Plot(산포그래프)\n",
        ": 다양한 마커, 색으로 만드는 plot\n",
        "* ` path = scatter(x, y, s=None, marker=None, c = None) `\n",
        "* x, y: x, y축을 배열 형식으로 입력받음\n",
        "* s: 마커 사이즈\n",
        "* marker: 마커 모양\n",
        "* c: 마커 색생"
      ]
    },
    {
      "cell_type": "code",
      "metadata": {
        "id": "dMeVb0c3BhtG"
      },
      "source": [
        "from common.layers import Affine, Sigmoid, SoftmaxWithLoss\n",
        "import numpy as np\n",
        "\n",
        "class TwoLayerNet:\n",
        "  def __init__(self, input_size, hidden_size, output_size):\n",
        "    I, H, O = input_size, hidden_size, output_size\n",
        "\n",
        "    # 가중치, 편향 초기화\n",
        "    W1 = 0.01 * np.random.randn(I, H)\n",
        "    b1 = np.zeros(H)\n",
        "    W2 = 0.01 * np.random.randn(H, O)\n",
        "    b2 = np.zeros(O)\n",
        "\n",
        "    # 계층 생성\n",
        "    self.layers = [Affine(W1, b1), Sigmoid(), Affine(W2, b2)]\n",
        "    self.loss_layer = SoftmaxWithLoss()\n",
        "\n",
        "    # 가중치, 기울기를 리스트에 담기\n",
        "    self.params, self.grads = [], []\n",
        "    for layer in self.layers:\n",
        "      self.params += layer.params\n",
        "      self.grads += layer.grads\n",
        "\n",
        "  def predict(self, x):\n",
        "    for layer in self.layers:\n",
        "      x = layer.forward(x)\n",
        "    return x\n",
        "\n",
        "  def forward(self, x, t):\n",
        "    score = self.predict(x)\n",
        "    loss = self.loss_layer.forward(score, t)\n",
        "    return loss\n",
        "\n",
        "  def backward(self, dout=1):\n",
        "    dout = self.loss_layer.backward(dout)\n",
        "    for layer in reversed(self.layers):\n",
        "      dout = layer.backward(dout)\n",
        "    return dout"
      ],
      "execution_count": 14,
      "outputs": []
    },
    {
      "cell_type": "code",
      "metadata": {
        "id": "svlPrHmsEqA5"
      },
      "source": [
        "from common.optimizer import SGD"
      ],
      "execution_count": 15,
      "outputs": []
    },
    {
      "cell_type": "code",
      "metadata": {
        "id": "yNec0x50Ffk3"
      },
      "source": [
        "# 하이퍼파라미터 설정\n",
        "max_epoch = 300\n",
        "batch_size = 30\n",
        "hidden_size = 10\n",
        "learning_rate = 1.0"
      ],
      "execution_count": 16,
      "outputs": []
    },
    {
      "cell_type": "code",
      "metadata": {
        "id": "P-9dcbm2Fp-h"
      },
      "source": [
        "# 데이터 읽기, 모델과 옵티마이저 생성\n",
        "x, t = spiral.load_data()\n",
        "model = TwoLayerNet(input_size = 2, hidden_size = hidden_size, output_size = 3)\n",
        "optimizer = SGD(lr = learning_rate)"
      ],
      "execution_count": 17,
      "outputs": []
    },
    {
      "cell_type": "code",
      "metadata": {
        "id": "XQ6WBtUQGE6j"
      },
      "source": [
        "# 학습에 필요한 변수들\n",
        "data_size = len(x)\n",
        "max_iters = data_size // batch_size\n",
        "total_loss = 0\n",
        "loss_count = 0\n",
        "loss_list = []"
      ],
      "execution_count": 18,
      "outputs": []
    },
    {
      "cell_type": "code",
      "metadata": {
        "colab": {
          "base_uri": "https://localhost:8080/"
        },
        "id": "KF2n2OzJGaKy",
        "outputId": "b61c5a5e-4869-4003-9103-1c2aefdab81e"
      },
      "source": [
        "for epoch in range(max_epoch):\n",
        "  # 데이터 뒤섞기\n",
        "  idx = np.random.permutation(data_size) \n",
        "  #np.random.permutation: 무작위로 섞인 배열 생성\n",
        "  x = x[idx]\n",
        "  t = t[idx]\n",
        "\n",
        "  for iters in range(max_iters):\n",
        "    batch_x = x[iters*batch_size:(iters+1)*batch_size]\n",
        "    batch_t = t[iters*batch_size:(iters+1)*batch_size]\n",
        "\n",
        "    # 기울기를 구해 매개변수 갱신\n",
        "    loss = model.forward(batch_x, batch_t)\n",
        "    model.backward()\n",
        "    optimizer.update(model.params, model.grads)\n",
        "\n",
        "    total_loss += loss\n",
        "    loss_count += 1\n",
        "\n",
        "    # 학습 경과 출력\n",
        "    if(iters+1) % 10 == 0:\n",
        "      avg_loss = total_loss / loss_count\n",
        "      print('| epoch: %d | iteration: %d / %d | loss: %.2f' %(epoch+1, iters+1, max_iters, avg_loss))\n",
        "      loss_list.append(avg_loss)\n",
        "      total_loss, loss_count = 0, 0"
      ],
      "execution_count": 21,
      "outputs": [
        {
          "output_type": "stream",
          "text": [
            "| epoch: 1 | iteration: 10 / 10 | loss: 1.13\n",
            "| epoch: 2 | iteration: 10 / 10 | loss: 1.12\n",
            "| epoch: 3 | iteration: 10 / 10 | loss: 1.11\n",
            "| epoch: 4 | iteration: 10 / 10 | loss: 1.14\n",
            "| epoch: 5 | iteration: 10 / 10 | loss: 1.16\n",
            "| epoch: 6 | iteration: 10 / 10 | loss: 1.11\n",
            "| epoch: 7 | iteration: 10 / 10 | loss: 1.12\n",
            "| epoch: 8 | iteration: 10 / 10 | loss: 1.13\n",
            "| epoch: 9 | iteration: 10 / 10 | loss: 1.12\n",
            "| epoch: 10 | iteration: 10 / 10 | loss: 1.12\n",
            "| epoch: 11 | iteration: 10 / 10 | loss: 1.10\n",
            "| epoch: 12 | iteration: 10 / 10 | loss: 1.10\n",
            "| epoch: 13 | iteration: 10 / 10 | loss: 1.08\n",
            "| epoch: 14 | iteration: 10 / 10 | loss: 1.07\n",
            "| epoch: 15 | iteration: 10 / 10 | loss: 1.00\n",
            "| epoch: 16 | iteration: 10 / 10 | loss: 0.96\n",
            "| epoch: 17 | iteration: 10 / 10 | loss: 0.96\n",
            "| epoch: 18 | iteration: 10 / 10 | loss: 0.90\n",
            "| epoch: 19 | iteration: 10 / 10 | loss: 0.88\n",
            "| epoch: 20 | iteration: 10 / 10 | loss: 0.84\n",
            "| epoch: 21 | iteration: 10 / 10 | loss: 0.81\n",
            "| epoch: 22 | iteration: 10 / 10 | loss: 0.80\n",
            "| epoch: 23 | iteration: 10 / 10 | loss: 0.83\n",
            "| epoch: 24 | iteration: 10 / 10 | loss: 0.78\n",
            "| epoch: 25 | iteration: 10 / 10 | loss: 0.76\n",
            "| epoch: 26 | iteration: 10 / 10 | loss: 0.77\n",
            "| epoch: 27 | iteration: 10 / 10 | loss: 0.79\n",
            "| epoch: 28 | iteration: 10 / 10 | loss: 0.75\n",
            "| epoch: 29 | iteration: 10 / 10 | loss: 0.78\n",
            "| epoch: 30 | iteration: 10 / 10 | loss: 0.77\n",
            "| epoch: 31 | iteration: 10 / 10 | loss: 0.77\n",
            "| epoch: 32 | iteration: 10 / 10 | loss: 0.78\n",
            "| epoch: 33 | iteration: 10 / 10 | loss: 0.75\n",
            "| epoch: 34 | iteration: 10 / 10 | loss: 0.75\n",
            "| epoch: 35 | iteration: 10 / 10 | loss: 0.76\n",
            "| epoch: 36 | iteration: 10 / 10 | loss: 0.76\n",
            "| epoch: 37 | iteration: 10 / 10 | loss: 0.73\n",
            "| epoch: 38 | iteration: 10 / 10 | loss: 0.75\n",
            "| epoch: 39 | iteration: 10 / 10 | loss: 0.76\n",
            "| epoch: 40 | iteration: 10 / 10 | loss: 0.76\n",
            "| epoch: 41 | iteration: 10 / 10 | loss: 0.76\n",
            "| epoch: 42 | iteration: 10 / 10 | loss: 0.74\n",
            "| epoch: 43 | iteration: 10 / 10 | loss: 0.75\n",
            "| epoch: 44 | iteration: 10 / 10 | loss: 0.73\n",
            "| epoch: 45 | iteration: 10 / 10 | loss: 0.72\n",
            "| epoch: 46 | iteration: 10 / 10 | loss: 0.73\n",
            "| epoch: 47 | iteration: 10 / 10 | loss: 0.72\n",
            "| epoch: 48 | iteration: 10 / 10 | loss: 0.72\n",
            "| epoch: 49 | iteration: 10 / 10 | loss: 0.72\n",
            "| epoch: 50 | iteration: 10 / 10 | loss: 0.72\n",
            "| epoch: 51 | iteration: 10 / 10 | loss: 0.74\n",
            "| epoch: 52 | iteration: 10 / 10 | loss: 0.74\n",
            "| epoch: 53 | iteration: 10 / 10 | loss: 0.72\n",
            "| epoch: 54 | iteration: 10 / 10 | loss: 0.72\n",
            "| epoch: 55 | iteration: 10 / 10 | loss: 0.71\n",
            "| epoch: 56 | iteration: 10 / 10 | loss: 0.70\n",
            "| epoch: 57 | iteration: 10 / 10 | loss: 0.72\n",
            "| epoch: 58 | iteration: 10 / 10 | loss: 0.70\n",
            "| epoch: 59 | iteration: 10 / 10 | loss: 0.72\n",
            "| epoch: 60 | iteration: 10 / 10 | loss: 0.72\n",
            "| epoch: 61 | iteration: 10 / 10 | loss: 0.70\n",
            "| epoch: 62 | iteration: 10 / 10 | loss: 0.72\n",
            "| epoch: 63 | iteration: 10 / 10 | loss: 0.73\n",
            "| epoch: 64 | iteration: 10 / 10 | loss: 0.70\n",
            "| epoch: 65 | iteration: 10 / 10 | loss: 0.72\n",
            "| epoch: 66 | iteration: 10 / 10 | loss: 0.69\n",
            "| epoch: 67 | iteration: 10 / 10 | loss: 0.70\n",
            "| epoch: 68 | iteration: 10 / 10 | loss: 0.71\n",
            "| epoch: 69 | iteration: 10 / 10 | loss: 0.68\n",
            "| epoch: 70 | iteration: 10 / 10 | loss: 0.70\n",
            "| epoch: 71 | iteration: 10 / 10 | loss: 0.67\n",
            "| epoch: 72 | iteration: 10 / 10 | loss: 0.68\n",
            "| epoch: 73 | iteration: 10 / 10 | loss: 0.67\n",
            "| epoch: 74 | iteration: 10 / 10 | loss: 0.66\n",
            "| epoch: 75 | iteration: 10 / 10 | loss: 0.70\n",
            "| epoch: 76 | iteration: 10 / 10 | loss: 0.65\n",
            "| epoch: 77 | iteration: 10 / 10 | loss: 0.68\n",
            "| epoch: 78 | iteration: 10 / 10 | loss: 0.64\n",
            "| epoch: 79 | iteration: 10 / 10 | loss: 0.64\n",
            "| epoch: 80 | iteration: 10 / 10 | loss: 0.67\n",
            "| epoch: 81 | iteration: 10 / 10 | loss: 0.62\n",
            "| epoch: 82 | iteration: 10 / 10 | loss: 0.63\n",
            "| epoch: 83 | iteration: 10 / 10 | loss: 0.62\n",
            "| epoch: 84 | iteration: 10 / 10 | loss: 0.60\n",
            "| epoch: 85 | iteration: 10 / 10 | loss: 0.60\n",
            "| epoch: 86 | iteration: 10 / 10 | loss: 0.61\n",
            "| epoch: 87 | iteration: 10 / 10 | loss: 0.59\n",
            "| epoch: 88 | iteration: 10 / 10 | loss: 0.58\n",
            "| epoch: 89 | iteration: 10 / 10 | loss: 0.56\n",
            "| epoch: 90 | iteration: 10 / 10 | loss: 0.57\n",
            "| epoch: 91 | iteration: 10 / 10 | loss: 0.55\n",
            "| epoch: 92 | iteration: 10 / 10 | loss: 0.54\n",
            "| epoch: 93 | iteration: 10 / 10 | loss: 0.54\n",
            "| epoch: 94 | iteration: 10 / 10 | loss: 0.52\n",
            "| epoch: 95 | iteration: 10 / 10 | loss: 0.52\n",
            "| epoch: 96 | iteration: 10 / 10 | loss: 0.51\n",
            "| epoch: 97 | iteration: 10 / 10 | loss: 0.49\n",
            "| epoch: 98 | iteration: 10 / 10 | loss: 0.49\n",
            "| epoch: 99 | iteration: 10 / 10 | loss: 0.47\n",
            "| epoch: 100 | iteration: 10 / 10 | loss: 0.46\n",
            "| epoch: 101 | iteration: 10 / 10 | loss: 0.46\n",
            "| epoch: 102 | iteration: 10 / 10 | loss: 0.45\n",
            "| epoch: 103 | iteration: 10 / 10 | loss: 0.44\n",
            "| epoch: 104 | iteration: 10 / 10 | loss: 0.42\n",
            "| epoch: 105 | iteration: 10 / 10 | loss: 0.41\n",
            "| epoch: 106 | iteration: 10 / 10 | loss: 0.41\n",
            "| epoch: 107 | iteration: 10 / 10 | loss: 0.41\n",
            "| epoch: 108 | iteration: 10 / 10 | loss: 0.41\n",
            "| epoch: 109 | iteration: 10 / 10 | loss: 0.39\n",
            "| epoch: 110 | iteration: 10 / 10 | loss: 0.38\n",
            "| epoch: 111 | iteration: 10 / 10 | loss: 0.37\n",
            "| epoch: 112 | iteration: 10 / 10 | loss: 0.37\n",
            "| epoch: 113 | iteration: 10 / 10 | loss: 0.35\n",
            "| epoch: 114 | iteration: 10 / 10 | loss: 0.35\n",
            "| epoch: 115 | iteration: 10 / 10 | loss: 0.34\n",
            "| epoch: 116 | iteration: 10 / 10 | loss: 0.34\n",
            "| epoch: 117 | iteration: 10 / 10 | loss: 0.33\n",
            "| epoch: 118 | iteration: 10 / 10 | loss: 0.34\n",
            "| epoch: 119 | iteration: 10 / 10 | loss: 0.32\n",
            "| epoch: 120 | iteration: 10 / 10 | loss: 0.32\n",
            "| epoch: 121 | iteration: 10 / 10 | loss: 0.31\n",
            "| epoch: 122 | iteration: 10 / 10 | loss: 0.32\n",
            "| epoch: 123 | iteration: 10 / 10 | loss: 0.30\n",
            "| epoch: 124 | iteration: 10 / 10 | loss: 0.30\n",
            "| epoch: 125 | iteration: 10 / 10 | loss: 0.29\n",
            "| epoch: 126 | iteration: 10 / 10 | loss: 0.28\n",
            "| epoch: 127 | iteration: 10 / 10 | loss: 0.29\n",
            "| epoch: 128 | iteration: 10 / 10 | loss: 0.28\n",
            "| epoch: 129 | iteration: 10 / 10 | loss: 0.28\n",
            "| epoch: 130 | iteration: 10 / 10 | loss: 0.27\n",
            "| epoch: 131 | iteration: 10 / 10 | loss: 0.27\n",
            "| epoch: 132 | iteration: 10 / 10 | loss: 0.27\n",
            "| epoch: 133 | iteration: 10 / 10 | loss: 0.27\n",
            "| epoch: 134 | iteration: 10 / 10 | loss: 0.27\n",
            "| epoch: 135 | iteration: 10 / 10 | loss: 0.27\n",
            "| epoch: 136 | iteration: 10 / 10 | loss: 0.26\n",
            "| epoch: 137 | iteration: 10 / 10 | loss: 0.25\n",
            "| epoch: 138 | iteration: 10 / 10 | loss: 0.25\n",
            "| epoch: 139 | iteration: 10 / 10 | loss: 0.24\n",
            "| epoch: 140 | iteration: 10 / 10 | loss: 0.25\n",
            "| epoch: 141 | iteration: 10 / 10 | loss: 0.24\n",
            "| epoch: 142 | iteration: 10 / 10 | loss: 0.24\n",
            "| epoch: 143 | iteration: 10 / 10 | loss: 0.24\n",
            "| epoch: 144 | iteration: 10 / 10 | loss: 0.24\n",
            "| epoch: 145 | iteration: 10 / 10 | loss: 0.23\n",
            "| epoch: 146 | iteration: 10 / 10 | loss: 0.23\n",
            "| epoch: 147 | iteration: 10 / 10 | loss: 0.23\n",
            "| epoch: 148 | iteration: 10 / 10 | loss: 0.23\n",
            "| epoch: 149 | iteration: 10 / 10 | loss: 0.23\n",
            "| epoch: 150 | iteration: 10 / 10 | loss: 0.22\n",
            "| epoch: 151 | iteration: 10 / 10 | loss: 0.22\n",
            "| epoch: 152 | iteration: 10 / 10 | loss: 0.22\n",
            "| epoch: 153 | iteration: 10 / 10 | loss: 0.22\n",
            "| epoch: 154 | iteration: 10 / 10 | loss: 0.21\n",
            "| epoch: 155 | iteration: 10 / 10 | loss: 0.21\n",
            "| epoch: 156 | iteration: 10 / 10 | loss: 0.21\n",
            "| epoch: 157 | iteration: 10 / 10 | loss: 0.21\n",
            "| epoch: 158 | iteration: 10 / 10 | loss: 0.20\n",
            "| epoch: 159 | iteration: 10 / 10 | loss: 0.21\n",
            "| epoch: 160 | iteration: 10 / 10 | loss: 0.20\n",
            "| epoch: 161 | iteration: 10 / 10 | loss: 0.21\n",
            "| epoch: 162 | iteration: 10 / 10 | loss: 0.20\n",
            "| epoch: 163 | iteration: 10 / 10 | loss: 0.20\n",
            "| epoch: 164 | iteration: 10 / 10 | loss: 0.20\n",
            "| epoch: 165 | iteration: 10 / 10 | loss: 0.19\n",
            "| epoch: 166 | iteration: 10 / 10 | loss: 0.19\n",
            "| epoch: 167 | iteration: 10 / 10 | loss: 0.19\n",
            "| epoch: 168 | iteration: 10 / 10 | loss: 0.19\n",
            "| epoch: 169 | iteration: 10 / 10 | loss: 0.19\n",
            "| epoch: 170 | iteration: 10 / 10 | loss: 0.18\n",
            "| epoch: 171 | iteration: 10 / 10 | loss: 0.19\n",
            "| epoch: 172 | iteration: 10 / 10 | loss: 0.18\n",
            "| epoch: 173 | iteration: 10 / 10 | loss: 0.18\n",
            "| epoch: 174 | iteration: 10 / 10 | loss: 0.18\n",
            "| epoch: 175 | iteration: 10 / 10 | loss: 0.18\n",
            "| epoch: 176 | iteration: 10 / 10 | loss: 0.18\n",
            "| epoch: 177 | iteration: 10 / 10 | loss: 0.17\n",
            "| epoch: 178 | iteration: 10 / 10 | loss: 0.17\n",
            "| epoch: 179 | iteration: 10 / 10 | loss: 0.18\n",
            "| epoch: 180 | iteration: 10 / 10 | loss: 0.17\n",
            "| epoch: 181 | iteration: 10 / 10 | loss: 0.18\n",
            "| epoch: 182 | iteration: 10 / 10 | loss: 0.18\n",
            "| epoch: 183 | iteration: 10 / 10 | loss: 0.17\n",
            "| epoch: 184 | iteration: 10 / 10 | loss: 0.18\n",
            "| epoch: 185 | iteration: 10 / 10 | loss: 0.17\n",
            "| epoch: 186 | iteration: 10 / 10 | loss: 0.17\n",
            "| epoch: 187 | iteration: 10 / 10 | loss: 0.17\n",
            "| epoch: 188 | iteration: 10 / 10 | loss: 0.17\n",
            "| epoch: 189 | iteration: 10 / 10 | loss: 0.16\n",
            "| epoch: 190 | iteration: 10 / 10 | loss: 0.17\n",
            "| epoch: 191 | iteration: 10 / 10 | loss: 0.16\n",
            "| epoch: 192 | iteration: 10 / 10 | loss: 0.16\n",
            "| epoch: 193 | iteration: 10 / 10 | loss: 0.16\n",
            "| epoch: 194 | iteration: 10 / 10 | loss: 0.16\n",
            "| epoch: 195 | iteration: 10 / 10 | loss: 0.16\n",
            "| epoch: 196 | iteration: 10 / 10 | loss: 0.15\n",
            "| epoch: 197 | iteration: 10 / 10 | loss: 0.16\n",
            "| epoch: 198 | iteration: 10 / 10 | loss: 0.16\n",
            "| epoch: 199 | iteration: 10 / 10 | loss: 0.16\n",
            "| epoch: 200 | iteration: 10 / 10 | loss: 0.16\n",
            "| epoch: 201 | iteration: 10 / 10 | loss: 0.16\n",
            "| epoch: 202 | iteration: 10 / 10 | loss: 0.15\n",
            "| epoch: 203 | iteration: 10 / 10 | loss: 0.16\n",
            "| epoch: 204 | iteration: 10 / 10 | loss: 0.15\n",
            "| epoch: 205 | iteration: 10 / 10 | loss: 0.16\n",
            "| epoch: 206 | iteration: 10 / 10 | loss: 0.15\n",
            "| epoch: 207 | iteration: 10 / 10 | loss: 0.15\n",
            "| epoch: 208 | iteration: 10 / 10 | loss: 0.15\n",
            "| epoch: 209 | iteration: 10 / 10 | loss: 0.15\n",
            "| epoch: 210 | iteration: 10 / 10 | loss: 0.15\n",
            "| epoch: 211 | iteration: 10 / 10 | loss: 0.15\n",
            "| epoch: 212 | iteration: 10 / 10 | loss: 0.15\n",
            "| epoch: 213 | iteration: 10 / 10 | loss: 0.15\n",
            "| epoch: 214 | iteration: 10 / 10 | loss: 0.14\n",
            "| epoch: 215 | iteration: 10 / 10 | loss: 0.14\n",
            "| epoch: 216 | iteration: 10 / 10 | loss: 0.15\n",
            "| epoch: 217 | iteration: 10 / 10 | loss: 0.14\n",
            "| epoch: 218 | iteration: 10 / 10 | loss: 0.14\n",
            "| epoch: 219 | iteration: 10 / 10 | loss: 0.14\n",
            "| epoch: 220 | iteration: 10 / 10 | loss: 0.14\n",
            "| epoch: 221 | iteration: 10 / 10 | loss: 0.14\n",
            "| epoch: 222 | iteration: 10 / 10 | loss: 0.14\n",
            "| epoch: 223 | iteration: 10 / 10 | loss: 0.14\n",
            "| epoch: 224 | iteration: 10 / 10 | loss: 0.14\n",
            "| epoch: 225 | iteration: 10 / 10 | loss: 0.14\n",
            "| epoch: 226 | iteration: 10 / 10 | loss: 0.14\n",
            "| epoch: 227 | iteration: 10 / 10 | loss: 0.13\n",
            "| epoch: 228 | iteration: 10 / 10 | loss: 0.14\n",
            "| epoch: 229 | iteration: 10 / 10 | loss: 0.13\n",
            "| epoch: 230 | iteration: 10 / 10 | loss: 0.14\n",
            "| epoch: 231 | iteration: 10 / 10 | loss: 0.13\n",
            "| epoch: 232 | iteration: 10 / 10 | loss: 0.13\n",
            "| epoch: 233 | iteration: 10 / 10 | loss: 0.13\n",
            "| epoch: 234 | iteration: 10 / 10 | loss: 0.13\n",
            "| epoch: 235 | iteration: 10 / 10 | loss: 0.14\n",
            "| epoch: 236 | iteration: 10 / 10 | loss: 0.13\n",
            "| epoch: 237 | iteration: 10 / 10 | loss: 0.13\n",
            "| epoch: 238 | iteration: 10 / 10 | loss: 0.14\n",
            "| epoch: 239 | iteration: 10 / 10 | loss: 0.13\n",
            "| epoch: 240 | iteration: 10 / 10 | loss: 0.13\n",
            "| epoch: 241 | iteration: 10 / 10 | loss: 0.13\n",
            "| epoch: 242 | iteration: 10 / 10 | loss: 0.13\n",
            "| epoch: 243 | iteration: 10 / 10 | loss: 0.13\n",
            "| epoch: 244 | iteration: 10 / 10 | loss: 0.13\n",
            "| epoch: 245 | iteration: 10 / 10 | loss: 0.13\n",
            "| epoch: 246 | iteration: 10 / 10 | loss: 0.13\n",
            "| epoch: 247 | iteration: 10 / 10 | loss: 0.13\n",
            "| epoch: 248 | iteration: 10 / 10 | loss: 0.13\n",
            "| epoch: 249 | iteration: 10 / 10 | loss: 0.13\n",
            "| epoch: 250 | iteration: 10 / 10 | loss: 0.13\n",
            "| epoch: 251 | iteration: 10 / 10 | loss: 0.12\n",
            "| epoch: 252 | iteration: 10 / 10 | loss: 0.12\n",
            "| epoch: 253 | iteration: 10 / 10 | loss: 0.12\n",
            "| epoch: 254 | iteration: 10 / 10 | loss: 0.12\n",
            "| epoch: 255 | iteration: 10 / 10 | loss: 0.12\n",
            "| epoch: 256 | iteration: 10 / 10 | loss: 0.13\n",
            "| epoch: 257 | iteration: 10 / 10 | loss: 0.13\n",
            "| epoch: 258 | iteration: 10 / 10 | loss: 0.12\n",
            "| epoch: 259 | iteration: 10 / 10 | loss: 0.13\n",
            "| epoch: 260 | iteration: 10 / 10 | loss: 0.12\n",
            "| epoch: 261 | iteration: 10 / 10 | loss: 0.12\n",
            "| epoch: 262 | iteration: 10 / 10 | loss: 0.13\n",
            "| epoch: 263 | iteration: 10 / 10 | loss: 0.12\n",
            "| epoch: 264 | iteration: 10 / 10 | loss: 0.12\n",
            "| epoch: 265 | iteration: 10 / 10 | loss: 0.12\n",
            "| epoch: 266 | iteration: 10 / 10 | loss: 0.12\n",
            "| epoch: 267 | iteration: 10 / 10 | loss: 0.11\n",
            "| epoch: 268 | iteration: 10 / 10 | loss: 0.12\n",
            "| epoch: 269 | iteration: 10 / 10 | loss: 0.12\n",
            "| epoch: 270 | iteration: 10 / 10 | loss: 0.12\n",
            "| epoch: 271 | iteration: 10 / 10 | loss: 0.12\n",
            "| epoch: 272 | iteration: 10 / 10 | loss: 0.12\n",
            "| epoch: 273 | iteration: 10 / 10 | loss: 0.11\n",
            "| epoch: 274 | iteration: 10 / 10 | loss: 0.12\n",
            "| epoch: 275 | iteration: 10 / 10 | loss: 0.12\n",
            "| epoch: 276 | iteration: 10 / 10 | loss: 0.11\n",
            "| epoch: 277 | iteration: 10 / 10 | loss: 0.11\n",
            "| epoch: 278 | iteration: 10 / 10 | loss: 0.11\n",
            "| epoch: 279 | iteration: 10 / 10 | loss: 0.11\n",
            "| epoch: 280 | iteration: 10 / 10 | loss: 0.12\n",
            "| epoch: 281 | iteration: 10 / 10 | loss: 0.11\n",
            "| epoch: 282 | iteration: 10 / 10 | loss: 0.11\n",
            "| epoch: 283 | iteration: 10 / 10 | loss: 0.11\n",
            "| epoch: 284 | iteration: 10 / 10 | loss: 0.11\n",
            "| epoch: 285 | iteration: 10 / 10 | loss: 0.11\n",
            "| epoch: 286 | iteration: 10 / 10 | loss: 0.12\n",
            "| epoch: 287 | iteration: 10 / 10 | loss: 0.11\n",
            "| epoch: 288 | iteration: 10 / 10 | loss: 0.12\n",
            "| epoch: 289 | iteration: 10 / 10 | loss: 0.11\n",
            "| epoch: 290 | iteration: 10 / 10 | loss: 0.11\n",
            "| epoch: 291 | iteration: 10 / 10 | loss: 0.11\n",
            "| epoch: 292 | iteration: 10 / 10 | loss: 0.11\n",
            "| epoch: 293 | iteration: 10 / 10 | loss: 0.12\n",
            "| epoch: 294 | iteration: 10 / 10 | loss: 0.11\n",
            "| epoch: 295 | iteration: 10 / 10 | loss: 0.12\n",
            "| epoch: 296 | iteration: 10 / 10 | loss: 0.11\n",
            "| epoch: 297 | iteration: 10 / 10 | loss: 0.11\n",
            "| epoch: 298 | iteration: 10 / 10 | loss: 0.11\n",
            "| epoch: 299 | iteration: 10 / 10 | loss: 0.11\n",
            "| epoch: 300 | iteration: 10 / 10 | loss: 0.11\n"
          ],
          "name": "stdout"
        }
      ]
    },
    {
      "cell_type": "markdown",
      "metadata": {
        "id": "gP6955ELJZQB"
      },
      "source": [
        "## 학습결과 시각화"
      ]
    },
    {
      "cell_type": "code",
      "metadata": {
        "colab": {
          "base_uri": "https://localhost:8080/",
          "height": 295
        },
        "id": "hHU1autbIUZo",
        "outputId": "a18e7aac-d5b8-4af3-caa1-cba8a9336527"
      },
      "source": [
        "plt.plot(np.arange(len(loss_list)), loss_list, label='train')\n",
        "plt.xlabel('epoch (x10)')\n",
        "plt.ylabel('loss')\n",
        "plt.title('Loss')\n",
        "plt.show()"
      ],
      "execution_count": 23,
      "outputs": [
        {
          "output_type": "display_data",
          "data": {
            "image/png": "[encoded data removed]",
            "text/plain": [
              "<Figure size 432x288 with 1 Axes>"
            ]
          },
          "metadata": {
            "tags": [],
            "needs_background": "light"
          }
        }
      ]
    },
    {
      "cell_type": "code",
      "metadata": {
        "colab": {
          "base_uri": "https://localhost:8080/",
          "height": 248
        },
        "id": "nt2uQtZSJzzg",
        "outputId": "5d5b76c2-93b4-4ea0-d600-510da30ec61c"
      },
      "source": [
        "# 경계 영역 플롯\n",
        "h = 0.001\n",
        "x_min, x_max = x[:, 0].min() - .1, x[:, 0].max() + .1\n",
        "y_min, y_max = x[:, 0].min() - .1, x[:, 1].max() + .1\n",
        "xx, yy = np.meshgrid(np.arange(x_min, x_max, h), np.arange(y_min, y_max, h))\n",
        "\n",
        "#np.meshgrid: 1차원 좌표 배열에서 N차원 직사각형 격자 만드는 함수\n",
        "#np.arange(x_min, x_max, h)에서 np.arange(y_min, y_max, h)까지 배열로\n",
        "x = np.c_[xx.ravel(), yy.ravel()]\n",
        "#ravel(): 다차원 배열 -> 일차원으로 평평하기 해줌(flatten()같은 느낌)\n",
        "score = model.predict(x)\n",
        "predict_cls = np.argmax(score, axis=1)\n",
        "z = predict_cls.reshape(xx.shape)\n",
        "plt.contourf(xx, yy, z)\n",
        "#contourf: contourf(Z)는 행렬 Z의 등치선을 포함하는 채워진 등고선 플롯을 만듦\n",
        "plt.axis('off')\n",
        "\n",
        "# 데이터점 플롯\n",
        "x, t = spiral.load_data()\n",
        "N = 100\n",
        "CLS_NUM = 3\n",
        "markers = ['o', 'x', '^']\n",
        "for i in range(CLS_NUM):\n",
        "  plt.scatter(x[i*N:(i+1)*N, 0], x[i*N:(i+1)*N, 1], s=40, marker = markers[i])\n",
        "plt.show()"
      ],
      "execution_count": 25,
      "outputs": [
        {
          "output_type": "display_data",
          "data": {
            "image/png": "[encoded data removed]",
            "text/plain": [
              "<Figure size 432x288 with 1 Axes>"
            ]
          },
          "metadata": {
            "tags": [],
            "needs_background": "light"
          }
        }
      ]
    },
    {
      "cell_type": "code",
      "metadata": {
        "id": "nmPgnwwYLl7K"
      },
      "source": [
        ""
      ],
      "execution_count": null,
      "outputs": []
    }
  ]
}