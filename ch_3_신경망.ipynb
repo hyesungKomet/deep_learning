{
  "nbformat": 4,
  "nbformat_minor": 0,
  "metadata": {
    "colab": {
      "name": "ch.3 신경망",
      "provenance": [],
      "collapsed_sections": [],
      "toc_visible": true,
      "include_colab_link": true
    },
    "kernelspec": {
      "name": "python3",
      "display_name": "Python 3"
    }
  },
  "cells": [
    {
      "cell_type": "markdown",
      "metadata": {
        "id": "view-in-github",
        "colab_type": "text"
      },
      "source": [
        "<a href=\"https://colab.research.google.com/github/hyesungKomet/deep_learning/blob/main/ch_3_%EC%8B%A0%EA%B2%BD%EB%A7%9D.ipynb\" target=\"_parent\"><img src=\"https://colab.research.google.com/assets/colab-badge.svg\" alt=\"Open In Colab\"/></a>"
      ]
    },
    {
      "cell_type": "code",
      "metadata": {
        "id": "NWkxBNZ00rLY",
        "colab": {
          "base_uri": "https://localhost:8080/"
        },
        "outputId": "09947ce8-36e8-4846-975b-c0a150edf2e8"
      },
      "source": [
        "!curl -O https://raw.githubusercontent.com/WegraLee/deep-learning-from-scratch/master/dataset/mnist.py"
      ],
      "execution_count": null,
      "outputs": [
        {
          "output_type": "stream",
          "text": [
            "  % Total    % Received % Xferd  Average Speed   Time    Time     Time  Current\n",
            "                                 Dload  Upload   Total   Spent    Left  Speed\n",
            "\r  0     0    0     0    0     0      0      0 --:--:-- --:--:-- --:--:--     0\r100  3655  100  3655    0     0  19650      0 --:--:-- --:--:-- --:--:-- 19650\n"
          ],
          "name": "stdout"
        }
      ]
    },
    {
      "cell_type": "code",
      "metadata": {
        "id": "umtgm7-S0wbW"
      },
      "source": [
        "import sys, os\n",
        "import pickle\n",
        "import numpy as np\n",
        "from mnist import load_mnist\n",
        "import matplotlib.pyplot as plt\n",
        "sys.path.append(os.pardir)"
      ],
      "execution_count": null,
      "outputs": []
    },
    {
      "cell_type": "code",
      "metadata": {
        "id": "yWficTMP00Zk",
        "colab": {
          "base_uri": "https://localhost:8080/",
          "height": 282
        },
        "outputId": "69cbf84d-3a57-4859-e5c8-8c9c6db4fec9"
      },
      "source": [
        "# 시그모이드 함수 정의하기\n",
        "def sigmoid(x):\n",
        "  return 1 / (1+np.exp(-x))\n",
        "\n",
        "x = np.array([-1.0, 1.0, 2.0])\n",
        "print(sigmoid(x))\n",
        "\n",
        "# 시그모이드 함수 그리기\n",
        "x = np.arange(-10,10,0.1)\n",
        "y = sigmoid(x)\n",
        "plt.plot(x,y)\n",
        "plt.ylim(-0.1, 1.1)\n",
        "plt.show()"
      ],
      "execution_count": null,
      "outputs": [
        {
          "output_type": "stream",
          "text": [
            "[0.26894142 0.73105858 0.88079708]\n"
          ],
          "name": "stdout"
        },
        {
          "output_type": "display_data",
          "data": {
            "image/png": "[encoded data removed]",
            "text/plain": [
              "<Figure size 432x288 with 1 Axes>"
            ]
          },
          "metadata": {
            "tags": [],
            "needs_background": "light"
          }
        }
      ]
    },
    {
      "cell_type": "code",
      "metadata": {
        "id": "iq8f0wDQ3p5f"
      },
      "source": [
        "# 소프트맥스 함수 정의하기\n",
        "def softmax(x):\n",
        "  exp_x = np.exp(x)\n",
        "  sum_exp_x = np.sum(exp_x)\n",
        "  y = exp_x / sum_exp_x\n",
        "  return y\n",
        "#오버플로우 해결 방안\n",
        "def softmax(x):\n",
        "  c = np.max(x)\n",
        "  exp_x = np.exp(x - c)\n",
        "  sum_exp_x = np.sum(exp_x)\n",
        "  y = exp_x / sum_exp_x\n",
        "  return y"
      ],
      "execution_count": null,
      "outputs": []
    },
    {
      "cell_type": "code",
      "metadata": {
        "id": "G98znwBj3uzL",
        "colab": {
          "base_uri": "https://localhost:8080/"
        },
        "outputId": "3ce3fceb-e2ee-4272-8cc5-198620af5e7a"
      },
      "source": [
        "# mnist.py에 있는 load_mnist() 함수를 사용해 변수에 저장\n",
        "# 궁금하다면 matplotlib의 pyplot을 이용하여 그림 출력해보기\n",
        "from PIL import Image\n",
        "(x_train, t_train), (x_test, t_test) = load_mnist(flatten = True, normalize = False)\n",
        "\n",
        "def img_show(img):\n",
        "  pil_img = Image.fromarray(np.uint8(img))\n",
        "  pil_img.show()\n",
        "\n",
        "img = x_train[0]\n",
        "label = t_train[0]\n",
        "print(label)\n",
        "\n",
        "img = img.reshape(28,28)\n",
        "img_show(img)\n"
      ],
      "execution_count": null,
      "outputs": [
        {
          "output_type": "stream",
          "text": [
            "5\n"
          ],
          "name": "stdout"
        }
      ]
    },
    {
      "cell_type": "markdown",
      "metadata": {
        "id": "KCr0Krd507mJ"
      },
      "source": [
        "https://github.com/WegraLee/deep-learning-from-scratch/blob/master/ch03/sample_weight.pkl\n",
        "\n",
        "View Raw -> 현재 디렉터리로 sample_weight.pkl 옮기기View Raw -> 현재 디렉터리로 sample_weight.pkl 옮기기"
      ]
    },
    {
      "cell_type": "code",
      "metadata": {
        "id": "nYXxBL-L4XBP"
      },
      "source": [
        "# network라는 변수에 pkl파일을 rb모드로 읽은 값 저장\n",
        "# pickle.load()함수 사용\n",
        "def get_data():\n",
        "  (x_train, t_train), (x_test, t_test) = load_mnist(normalize=True, flatten=True, one_hot_label=False)\n",
        "  return x_test, t_test\n",
        "\n",
        "# sample_weight.pkl에는 학습된 가중치들이 담겨있음\n",
        "def init_network():\n",
        "  with open(\"sample_weight.pkl\", 'rb') as f:\n",
        "    network = pickle.load(f)\n",
        "\n",
        "  return network"
      ],
      "execution_count": null,
      "outputs": []
    },
    {
      "cell_type": "code",
      "metadata": {
        "id": "qmHhMFVT40sd"
      },
      "source": [
        "# 예측 함수 정의하기\n",
        "def predict(network, x):\n",
        "  W1, W2, W3 = network[\"W1\"], network[\"W2\"], network[\"W3\"]\n",
        "  b1, b2, b3 = network[\"b1\"], network[\"b2\"], network[\"b3\"]\n",
        "\n",
        "  \n",
        "  \n",
        " \n",
        "  # x_train에 있는 값에 대해서는 W1과 b1로 가중치 연산\n",
        "  a1 = np.dot(x, W1) + b1\n",
        "  z1 = sigmoid(a1)\n",
        "  # 의 결과값에 (1)를 적용한 후 W2와 b2로 가중치 연산\n",
        "  a2 = np.dot(z1, W2) + b2\n",
        "  z2 = sigmoid(a2)\n",
        "  # 의 결과값에 (1)를 적용한 후 W3과 b3으로 가중치 연산\n",
        "  a3 = np.dot(z2, W3) + b3\n",
        "  y = softmax(a3)\n",
        "  # 의 결과값을 (2)를 적용한 후, 가장 큰 확률을 가진 친구를 답으로 삼음\n",
        "  return y\n",
        "# (1) : _____ 함수\n",
        "# (2) : _____ 함수"
      ],
      "execution_count": null,
      "outputs": []
    },
    {
      "cell_type": "code",
      "metadata": {
        "id": "tKIs6XMG5wai",
        "colab": {
          "base_uri": "https://localhost:8080/"
        },
        "outputId": "6a031552-2693-40d7-bce8-d08afb228a58"
      },
      "source": [
        "# 돌려보고 Accuracy 확인\n",
        "x, t = get_data()\n",
        "network = init_network()\n",
        "\n",
        "accuracy_cnt = 0\n",
        "for i in range(len(x)):\n",
        "  y = predict(network, x[i])\n",
        "  p = np.argmax(y) #-확률최고인 원소의 인덱스 얻음\n",
        "  if(p==t[i]):\n",
        "    accuracy_cnt += 1\n",
        "\n",
        "print(\"Accuracy: {}\".format(float(accuracy_cnt)/len(x)))"
      ],
      "execution_count": null,
      "outputs": [
        {
          "output_type": "stream",
          "text": [
            "Accuracy: 0.9352\n"
          ],
          "name": "stdout"
        }
      ]
    },
    {
      "cell_type": "markdown",
      "metadata": {
        "id": "wk_p-0xx8dPC"
      },
      "source": [
        "## 추가 과제\n",
        "1. Sigmoid 함수 대신 Relu를 사용하고 Accuracy 값 비교하기\n",
        "2. Sigmoid 함수, Relu 함수를 사용하기에 적합한 상황이 무엇인지 조사하고, 위의 결과가 나온 이유 설명하기 "
      ]
    },
    {
      "cell_type": "code",
      "metadata": {
        "id": "F7Gz1XDD8cQt"
      },
      "source": [
        "# Relu 함수 정의하기\n",
        "def relu(x):\n",
        "  return np.maximum(0, x)"
      ],
      "execution_count": null,
      "outputs": []
    },
    {
      "cell_type": "code",
      "metadata": {
        "id": "KbAr0LOU80yx"
      },
      "source": [
        "# 예측 함수 정의하고 \n",
        "# Accuracy 확인하기\n",
        "def predict_relu(network, x):\n",
        "  W1, W2, W3 = network[\"W1\"], network[\"W2\"], network[\"W3\"]\n",
        "  b1, b2, b3 = network[\"b1\"], network[\"b2\"], network[\"b3\"]\n",
        "\n",
        "  \n",
        "  \n",
        " \n",
        "  # x_train에 있는 값에 대해서는 W1과 b1로 가중치 연산\n",
        "  a1 = np.dot(x, W1) + b1\n",
        "  z1 = relu(a1)\n",
        "  # 의 결과값에 (1)를 적용한 후 W2와 b2로 가중치 연산\n",
        "  a2 = np.dot(z1, W2) + b2\n",
        "  z2 = relu(a2)\n",
        "  # 의 결과값에 (1)를 적용한 후 W3과 b3으로 가중치 연산\n",
        "  a3 = np.dot(z2, W3) + b3\n",
        "  y = softmax(a3)\n",
        "  # 의 결과값을 (2)를 적용한 후, 가장 큰 확률을 가진 친구를 답으로 삼음\n",
        "  return y"
      ],
      "execution_count": null,
      "outputs": []
    },
    {
      "cell_type": "code",
      "metadata": {
        "colab": {
          "base_uri": "https://localhost:8080/"
        },
        "id": "oVrcV36VRbQA",
        "outputId": "6e36b2bc-fccb-4ac0-ce58-bbf595c9379f"
      },
      "source": [
        "# 돌려보고 Accuracy 확인\n",
        "x, t = get_data()\n",
        "network = init_network()\n",
        "\n",
        "accuracy_cnt = 0\n",
        "for i in range(len(x)):\n",
        "  y = predict_relu(network, x[i])\n",
        "  p = np.argmax(y) #-확률최고인 원소의 인덱스 얻음\n",
        "  if(p==t[i]):\n",
        "    accuracy_cnt += 1\n",
        "\n",
        "print(\"Accuracy: {}\".format(float(accuracy_cnt)/len(x)))"
      ],
      "execution_count": null,
      "outputs": [
        {
          "output_type": "stream",
          "text": [
            "Accuracy: 0.8415\n"
          ],
          "name": "stdout"
        }
      ]
    },
    {
      "cell_type": "markdown",
      "metadata": {
        "id": "CZS2CeXVR5hy"
      },
      "source": [
        "sigmoid 함수를 활성화 함수로 사용했을 때는 약 93.5%의 정확도를 보였고, relu함수를 사용했을 때는 약 84%의 정확도를 보여서 sigmoid가 더 높은 성능을 보였다.\n",
        "시그모이드의 경우 x의 절댓값이 클수록 활성화 함수에서 변화가 미미해진다는 단점이 있지만 이진 분류에 뛰어난 성능을 보인다. 렐루의 경우 0보다 작은 값은 늘 0이 나오도록 하기에 학습이 빠르고 연산이 적지만 그만큼 정확도는 떨어질 것이다."
      ]
    },
    {
      "cell_type": "markdown",
      "metadata": {
        "id": "_lwnLWO-8-D-"
      },
      "source": [
        ""
      ]
    },
    {
      "cell_type": "markdown",
      "metadata": {
        "id": "nMKyebt8h9XF"
      },
      "source": [
        "## 추가 과제 2\n",
        "\n",
        "1. batch처리를 한다\n",
        "2. batch_size가 달라질 때마다 함수 실행 시간이 얼마나 달라지는지 측정하고 결과를 표로 표시한다\n",
        "* 예시\n",
        "![image.png](data:image/png;base64,iVBORw0KGgoAAAANSUhEUgAAAYEAAAD4CAYAAAAKA1qZAAAgAElEQVR4Ae2dC7hdVXXv/3xQ4GrtvS3U7/rJTQFrvQWv2oar0vqsWhEragULt2J9lVqwrVjUhIfloaggiDwD8pCXkACKQgghgTzIg4Qk5AlJyItHeIQA4S3Peb/fOnMkMyt7n7P3Wvuss9fZY3zfOWvtteaca67/nGuMOccYc0zJyRFwBBwBR8ARcAQcAUfAEXAEHAFHwBFwBBwBR8ARcAQcAUfAEXAEHAFHwBFwBBwBR8ARcAQcAUfAEXAEHIEhR2CXXXYJI0eO9D/HwPuA9wHvA230AUmPDTkD70QFEABOjoAj4Ag4Au0hIGleJ3jwkJfhQqC9hvfUjoAj4AiAgAsB7weOgCPgCPQwAp0QAvtJWiFplaRRDaYEO0kaG+/PkbR7kuYdkmZLWiZpiaSd472pscyFkvh7Y5Kn4anPBHq4F/urOwKOQGEEygqB7SWtlrSnpB0lLZK0V45LHy5pTLx2cBQI/NxB0mJJ74z3dpFEeRBCYJ943tLBhUDhPuAZHQFHoIcRKCsE9pU0MeHSoyXxlxL3SQfB+DdK2k7S/pKuiNfzBxcCPdwp/dUdAUegOgTKCoEDJV2YcPBDJZ2d/OZ0qaTdkmvMHHaV9E1Jl0chskDSd5I0CAHUQ6iCjotCI7m97anPBKrrNP4kR8ARGD4IDKUQOErS2igQXhdtAx+J7P3N8fgGSbdI+uK2bD+7clh8gXkjRowYPq3ib+IIOAKOQEUIlBUCZdRB2AcuTZg7I/5vJ7/t9EsNZhd2b/Ox6EzgFzPXht8uXF8R3P4YR8ARcAS6C4GyQgAd/xpJeySG4b03c+a+kyNyhuFx8f4fSkINxCyAciZL+mQ8R10E/Z6kayV9Pf5ueigqBD52+tTw9cvndVereG0cAUfAEagIgbJCAKaMgXdl9BI6JnLpEyUdEM9x+7wmuojOjZ5Exsy/EN1DsRucEi++XtL86DmE6+jPEq8hy7fNsagQ+MQZ08PXLr2zIrj9MY6AI+AIdBcCnRAC2zDkobhQVAh86qzbw5cuntNdreK1cQQcAUegIgR6Xgh89pwZ4QsX3lER3P4YR8ARcAS6C4GeFwIHjZkV/uH8Wd3VKl4bR8ARcAQqQqDnhcAhF8wOB543syK4/TGOgCPgCHQXAj0vBA69aE749NkzuqtVvDaOgCPgCFSEQM8Lga9cMjd88szpFcHtj3EEHAFHoLsQ6HkhcNhld4aP/3Rad7WK18YRcAQcgYoQ6HkhcPgV88NHTptaEdz+GEfAEXAEuguBnhcC/37VgvDBU27rrlbx2jgCjoAjUBECPS8EvjV2YfirH95aEdz+GEfAEXAEuguBnhcC3712UXj3DyZ1V6t4bRwBR8ARqAiBnhcCR/9qcRh50i0Vwe2PcQQcAUeguxDoeSHwX79ZGt5x/MTuahWvjSPgCDgCFSHQ80LgpBuWhb2Om1AR3P4YR8ARcAS6C4GeFwIn33R3+LNjbuquVvHaOAKOgCNQEQI9LwROvXl52HP0+Irg9sc4Ao6AI9BdCPS8EPjppBXhT757Y3jttde6q2W8No6AI+AIVIBAzwuBs2+7NxMCL778agVw+yMcAUfAEeguBHpeCJw3dVUmBJ5/8ZXuahmvjSPgCDgCFSDQ80Lg59NXZ0LgqRdeqgBuf4Qj4Ag4At2FQM8LgV/MXJsJgceffbG7WsZr4wg4Ao5ABQj0vBC44o51mRB49KkXKoDbH+EIOAKOQHch0PNC4Oq592VCYP2Tz3dXy3htHAFHwBGoAIGeFwLXznsgEwL3bXyuArj9EY6AI+AIdBcCnRAC+0laIWmVpFHalnaSNDbenyNp9yTJOyTNlrRM0hJJO8d7I+NvyjxT0nZJnoanI0eOLITs9Xc9mAmBVRueKZTfMzkCjoAjUGcEygqB7SWtlrSnpB0lLZK0V45LHy5pTLx2cBQI/NxB0mJJ74z3dpFEedBcSe+NzH+CpE/E600PRYXA+MUPZUJg+cNP17kdve6OgCPgCBRCoKwQ2FfSxIQzj5bEX0rcJx0E498Ymfv+kq6I19PDmyQtTy4cIun85HfD06JC4OalD2dCYOn6TYUA9EyOgCPgCNQZgbJC4EBJFyZc+VBJZye/OV0qabfkGjOHXSV9U9LlUYgskPSdmGYfSZOT9O+XdGPyOz09LL7AvBEjRhRqh1vveSQTAgvvf7JQfs/kCDgCjkCdERhKIXCUpLVRILwu2gY+IqkdIbBZIBSdCUxbsSETAvPWPV7ndvS6OwKOgCNQCIGyQqCMOgj7wKWbubh0nKRvS6pUHTTz3scyITB79cZCAHomR8ARcATqjEBZIYCOf42kPRLD8N4JY+f0iJxheFy8/4eSUAMxC6AcVECfjPfyhmHsB/1S0ZnAnDWPZ0Jgxr2P1bkdve6OgCPgCBRCoKwQgDHDoFdGL6FjIqc+UdIB8Ry3z2uiiyjMHU8ioy9E91DsBqfYxagS4hr2A2wMg+YiOv++JzIhMGX5o4UA9EyOgCPgCNQZgU4IgYR3D91p0ZnA4gc2ZUJg0rJH6tyOXndHwBFwBAoh0PNCYNn6pzIhMGHJQ4UA9EyOgCPgCNQZgZ4XAisfeToTAjcsWl/ndvS6OwKOgCNQCIGeFwJrHns2EwK/XvBgIQA9kyPgCDgCdUag54XA/Y8/lwmBcXfeX+d29Lo7Ao6AI1AIgZ4XAg9tej4TAlfNua8QgJ7JEXAEHIE6I9DzQmDD07/LhMBls9fVuR297o6AI+AIFEKg54XAk8+9mAmBi2esKQSgZ3IEHAFHoM4I9LwQePqFlzIhcMG01XVuR6+7I+AIOAKFEOh5IfDCS69kQuDcKasKAeiZHAFHwBGoMwI9LwRefuXVTAicOXllndvR6+4IOAKOQCEEel4IvPbaa5kQOO2WFYUA9EyOgCPgCNQZgZ4XAjTeW0aPDz+ecE+d29Hr7gg4Ao5AIQRcCIQQ3nbsTeHk8XcXAtAzOQKOgCNQZwRcCIQQ3v69m8MJv11W53b0ujsCjoAjUAgBFwIhhHedMDEcd/2SQgB6JkfAEXAE6oyAC4EQwsiTJoVR1y2uczt63R0BR8ARKISAC4EQwntPnhy+fc3CQgB6JkfAEXAE6oyAC4EQwvt+fGs48uq76tyOXndHwBFwBAoh4EIghPChU6eEb/xyQSEAPZMj4Ag4AnVGwIVACOGjp00NX798Xp3b0evuCDgCjkAhBFwIhBD2O2N6+NqldxYC0DM5Ao6AI1BnBFwIhBA+ddbt4UsXz6lzO3rdHQFHwBEohIALgRDCZ86ZEb5w4R2FAPRMjoAj4AjUGYFOCIH9JK2QtErSKG1LO0kaG+/PkbR7TMLxBUkL49+YJOvUWKbde2Nyr+HpyJEjC7fDQefNCgefP7twfs/oCDgCjkBdESgrBLaXtFrSnpJ2lLRI0l45Ln24JGPwB0eBQBKEwNJcWvuJENjHfrRyLCMEDrlgdjjwvJl1bUOvtyPgCDgChREoKwT2lTQxYdKjJfGXEvdJB+0gaaOk7bpJCBx60Zzw6bNnFAbRMzoCjoAjUFcEygqBAyVdGBk8h0MlnZ385pTR/m7JNWYOu0Yh8JykuyRNk/T+JA0zgSVRTXRcFBrJ7c2nh8UXmDdixIjCbfDlS+aGT545vXB+z+gIOAKOQF0RGEohgK1gl8jOR0p6QNIfxN9vjsc3SLpF0hc3s/0mJ2XUQf986Z3h4z+dVtc29Ho7Ao6AI1AYgbJCoIw6KM/Om9kBvtRgdpHPqzJC4PAr5oePnDa1MIie0RFwBByBuiJQVgig418jaY/EMLx3jkMfkTMMj4v3/1gShmUIw/J6SX8U7Qaoi6Dfk3StpK/H300PZYTAv1+1IHzwlNvq2oZeb0fAEXAECiNQVgjAlPeXtDJ6CR0TufSJkg6I5ztLuia6iM6NDJ9bn5O0LOr9F0j6VEz/eknzJS2O93+WCIuYZNtDGSFw5Ni7wl/98NbCIHpGR8ARcATqikAnhMC2HHkIrpQRAt+5ZlF4zw8m17UNvd6OgCPgCBRGwIVACOHoXy0OI0+6pTCIntERcAQcgboi4EIghPC965eEdxw/sa5t6PV2BBwBR6AwAi4EQggn3rAs7HXchMIgekZHwBFwBOqKgAuBEMLJN90d/uyYm+rahl5vR8ARcAQKI+BCIIRw6s3Lw56jxxcG0TM6Ao6AI1BXBFwIhBBOv2VF+JPv3hhee+21uraj19sRcAQcgUIIuBAIIZx168pMCLz48quFQPRMjoAj4AjUFQEXAiGE86auyoTA8y++Utd29Ho7Ao6AI1AIARcCIYSfT1+dCYGnXnipEIieyRFwBByBuiLgQiCEcMmMNZkQePzZF+vajl5vR8ARcAQKIeBCIIRw+ex1mRB49OkXCoHomRwBR8ARqCsCLgRCCFfPvS8TAuuffL6u7ej1dgS6AoFpKzaEGxc91BV18Uq0hoALgRDCNfMeyITAfRufaw01T+UIOAINEfjiRXN8g6aGyHTvRRcCIYTr73owEwKrNjzTvS3lNXMEaoDAQWNmhQ+dOqUGNfUqGgIuBELIpq8sFlvxyNOGix8dAUegAAIHnHW7h2UvgNtQZnEhEEK4eenD2Uxg6fpNQ9kW/mxHoPYI/O3p08I7T/CIvHVqSBcCIYTJdz+SCYGF9z9Zp7bzunYIgf/6zdJwxJXzO1RabxfzgVNuC2871oMx1qkXuBAIIUxdsSETAvPWPV6ntvO6dgiBg8+fHRjBOpVH4N0/mJR9Sx6HqzyWVZXgQiCEMPPex7KOe8fqjVXh7s/pIgQ+c86MwAjWqTwCbM6Efe2FlzwES3k0qynBhUAIYc6ax7OOO+Pex6pB3Z/SVQjsd8b0wAjWqTwC7MuBEHjyOV99Xx7NakpwIRBCmLfuiazjTln+aDWo+1O6CoEPnzrFtxftQIugAkIA8PfQJl942QFIKynChUAIYdEDT2Ydd9KyRyoB3R/SXQjse/Jk31muA02CCsiEwJrHnu1AiV5EFQi4EAghLFv/VNZ5Jyx5uArM/RldhsBfnHhL1v5uzCzXMKiATAjc/dBT5Qrz3JUh0AkhsJ+kFZJWSRqlbWknSWPj/TmSdo9JOL4gaWH8G5NkHSlpScxzpqTtknsNT0eOHFkYNBaJ0XlvWLS+cBmesb4I/PlxE7L2d2NmuTZEBWRCYP59T5QrrEdzE9b+FzPXVvr2ZYXA9pJWS9pT0o6SFknaK8elD5dkDP7gKBBIghBYmktrP+dKem9k/hMkfcJuNDuWEQKrNzyTdd5fL3iwUvD9YUOPAKP/PUb16bHdmFmuPVABmRCYucqdLIqg+amzbg8HnTerSNbCecoKgX0lTUwY82hJ/KXEfdJBO0jaGJl7MyHwJknLY3oOh0g6P/nd8LSMELj/8eeyzjvuzvsLA+kZ64kAW4oa43p4k4cSL9OKqIAMy1vvcftaESw/ctrUgCCoksoKgQMlXZhw5UMlnZ385pTR/m7JNWYOu8aZwHOS7pI0TdL7Y5p9JE1O0nP9xuR3enpYfIF5I0aMKIybTWOvmnNf4TI8Yz0RYDc5Y1xr3ZhZqhEX3NfnZQee4xd7OOkiYP7VD28NHz1tapGshfMMpRDAVrBL5OjYAB6Q9AeS2hECmwVCmZkAm8nQcS+bva4wkJ6xnghY29P+9zzsxswyrThr1cbNAvW6+Q+UKapn8/7libeEv/7RrZW+f1khUEYdtJmBx5OpUQBUrg564tk+r4aLZ6ypFHx/2NAjYKpAhMBdHjuqVIPctvzRzULgijt8QFUEzP997IQw8qRqFy6WFQLo+NdI2iMxDO+d4+5H5AzD4+L9P5aEYRnCsLxe0h/F33nD8P7xetNDmZnA01ElgGXeqbcQWBk9wxACsz1sSKnGn7Dkoc1C4MLbfUDVLpi22G7v793cbtZS6csKAZgyDHpl9BI6JnLpEyUdEM93lnRNdPeEucPwoc9JWhbdQxdI+lS8zgGVELYE7AfYGAbVRdQWuZw7ZVUpMD1z/RBY/MCmzYzLV4yXaz+86xCm/J19273lCuvB3M+/2LfYbs/R4yt9+04IgYR3D91pmZnAS6/0eYicOXllpeD7w4Yegblr++JGwbh8sWC59sCxwoTATyYuL1dYD+Z+PKqlwRCeVBW5EAgh2DTstFtWVIW7P6dLEJi+si+MOB8e24w6FUfgkhlrNguB79+4rHhBPZrzgSf6XNXpi3itVUUuBCLSbxk9Ppxy8z1V4e7P6RIEblnWt6EQH97Vc91FuEyznDd1VSYE2FTm2F8vKVNUT+a999G+yAX0xUefqm7NiguB2N0IgXvy+Lt7svP18kv/duH6zaPXqpfrDzfcfzppRYble34wOfznuIXD7fUG/X0skCVCYN3G6gLwuRCITYtF/oTf+hR20Ht6lz1g7J33bxYCY6a6Y0CZ5vnhTfeEtx59UyA0t2/X2T6SbGqFAOBv+cNPt19AwRwuBCJwbI593PU+hS3Yj2qb7bJZazd/eGdMcseAMg3JXs1v/6+bA5v0fPUXc8sU1ZN503UWVa5ZcSEQuxsLNEb/anFPdr5efukLpq3eLAR+NMFtQmX6wqjrFoV9vj8pfPacGeEff35HmaJ6Mu9Ni7ess2D1dVXkQiAijR7z29e4HrOqjtctz8EtmOk3xszjf7u0W6pVy3p88+q7wvt+fGs45ILZ4XPnzqzlOwxlpQm1YeogZgVVkQuBiDTxOo68+q6qcPfndAkCeIQRSpqZ4KjrfCZYplm+fvm8LPjZVy6ZG/b/2fQyRfVk3stnr9ssBJgVVEUuBCLSHzp1SvjGLxdUhXvp52x85neB4GdO5RA48YZlgU1lfBBQDkdyf+niOeHvzrw9HH7F/PA3P5lSvsAeK4GwNTYTqDIAnwuB2NEI3/qvV8yrTbejrv/v57NrU99urejRv1oc2F6SOO51av9uxPMfzp8VDjxvZjhy7F2BkMhO7SHws6iaRBBceUd1a1ZcCMR2+vhPp4WvXXpne602hKnZfehjp1cbd3wIX3fQHv2tsQsDG81/8szp4cuXuEdLGaA/ffaM8IUL7wgIVkIiO7WHAI4JNhOoMgCfC4HYTkxjmc7Whdh9qOq443XBpp16Hn7l/MyvHUMmBk2n4gjYQAoV217HTSheUI/mxMUWBwUEQZUB+FwIxA73mXP6RjF16X+or3y0Vb618GfHrx2XRlwbnYojYHY1jO1EwiQml1PrCHznmkXh3T+YlDkqnHpzdQH4XAjENkK9cvD59RkJ4orHBhRO5RAw5o8w+MQZ7tFSBs33njw5HDVuYTjr1j63W/ZvdmodARxTEKTMok66obroBS4EYhshADBq1YVYlMO08dVXfbRVps1MDZSphdyjpQyU4V0nTMwCx5mXS5WRMEtVvEsyf/UXd2azUmb42FWqIhcCEWkMWhi26kIsz0cIPPfiy3WpclfW0wzCGIjdo6VcEzEzJYS0+btXGQmzXM27Izfefqgk6Yd4WFVFLgQi0niGYByuC/3p0eMzIfDYM7+rS5W7sp7mGuoeLeWaB/3/7qNuDGwmc828vpWv9218rlyhPZbbwm3QJ1lrURW5EIhI4x6Kd0Md6JVXX8sEADMBNkp3Ko6ALRJzj5biGJLzdy/3bY2IV8sNi/rCc694pLpImOVq3x25+wLv3ZkNRqt0V3YhENufhUJI4DrQs797ebMQqDLkbB2wabeOFi4CbwzCR7hHS7sI9qXf9PxLWZ/EHjD57r6Nehbe/2Sxwno01wdPuS382y8XZLbJKp1UXAjEDgf4NEIdCBUQswD+Ftz3RB2q3LV1fPv3bs4Cx7lHS7kmQv9Pf8QeMOPex7Jz4uM7tY4A7qG4iWKfxGW9KnIhEJHGEFOXxVfpXqQz732sqr4yLJ+DbYWVmu7RUq550f8jBLAHzFv3eHY+dcWGcoX2WG6cPVgw9s8Vq6ZdCMSORhhpwknXge599JnsI+Ojm7TskTpUuSvr+PIrr2Y4spnMZTGCowflK9ZU6P/pj9gDlq7flJ1PWPJwscJ6NJcNSKrWSrgQiB2ODWVGnlSPeCdLHuz7yPjofrNwfY9+MuVf+5loW2FbyXFxm0k3tBfD1fbHZVCyakPfIOX6ux4sVlgP5nopDkjY3wKVUJUD0k4Igf0krZC0StIobUs7SRob78+RtHsuyQhJz0o6Krm+TtISSQtbreDIkSNLdZ3vXb8kvOP4iaXKqCrznWv7ptsIgavnVhdtsKr3q+o5Zlthg3nbcH6le7QUgn/Omr4+efvKx8KDTz6fzQS8b7YOJQvr+J5RS6ISqpIXtcpjE/681en2klZL2lPSjpIWSdprqxTS4ZLGxGsHR4GQJrlW0jUNhMCuaaKBzssKAVwE2Wy+DsSHRofh76Lb19Shyl1ZR7OtwKxuWdbn0bL4gU1dWddur9S0FRuy/sgA5fFnX8zOL5nhfbPVdnskMayffNPd4a3H3NRq1tLpygqBfSVNTBj0aEn8pcR90kE7SNooabv4+zOSTpV0/FALgZPH3x3+rELgy7ScMSyEQJXRBsvUuRvzmm0FtcX0lX1MbO7ax7uxql1fp4lLH84YP6pKVrHTN8+buqrr690tFVz72LMZZmwm89NJK7Jz1gNVQWWFwIGSLowMncOhks5OfnO6VNJuyTVmDozyf1/S7HjMC4G1khZImi/psCRv/pR78/gbMWJEKbws8mGpQirKbKoLPjTq7VQMAbOtYMCE+YMnwsCpfQSwTYHfvY8+ncWz4hxm5tQaAsvWP5Xhx7aS2KjAr6qQMEMpBH4i6fORq+eFwJvj9TdGFdMH8tw//7usOuj0W/qkbx0WC5kRk47im6O39pE1SmWujFOWPxpQA4Ensyyn9hEYO/f+DD8zrKPOQK3h1BoC89Y9keFHX8RGRV9kC9kqqKwQKKMOul0SBmD+Nkl6QtI38sy9gaqoQRKprBDAKg/wWOm7nS6b1ddJiNn+3WsXdXt1u7Z+tqhp9uqNAYMw7c8sy6l9BC6NfdJiWf2f6PPefkm9mcP6IgvsTKBis6qCygoBdPxrJO2RGIb3znHpI3KG4XG5+/xMZwKvl/SGmIbzWZLwQOqXygqBc6f0TcGef/GVKnAv9YwLpvVtSE3IA3yKnYohYOEN7rr/ySwGE0KAWZZT+wicP63v+8HtFrLVr+2X1Js5zM7HjHSLau2ZSsAoKwRgzPtLWhm9hI6JnPpESQfE852j9w8upHOjJ1GeoadCAE8jvIz4WybJyszn2ep3WSFQpxWjNmthj2FikDsVQ+DGRQ9lo/97Hn4qsEgMIcCiMaf2EbBN0lmAB33glNvCv1/lA5RWkdzC+J/e7KmGzaoK6oQQ2IoZD9WPskIAdzaYAO5t3U4/nnBPeMvo8eHvz50ZiEHuVAyBa2PIYzwzUj/tYqX1di7rk4bC354+LRx2mQ9QDI+Bjrgpw39YY1G1p5oLgdg6dQobcMJv+9Y0VB1oaqCOXLf7V9yxLvvwHt70QmArRD5CAsk5tY+A9UnLecDZM8KhF82xn34cAIF0EGqLQavyVHMhEBvnqjl9knj9k88P0FxDf9tCXFQdaGro37yzNbjw9r7Z36bnXspCSBNKusoNvjv7NkNbmvVJq8Xnx8wKB42ZZT/9OAAC50y5NxuEvPDSK8Fcl1l7UQW5EIgo12k3pCOv7ot4+h9XLQjv/3E9wl9X0ZnbfQYL7Rj98+FBf17xBt/t1reb0xOFN92e84sXzQkHnFWfnfqGGtvTJi7P+iIu6ukixirq5UIgosyqURjC6g3VWOTLNK5tgDPqOoLeTSpTVE/n5cNjS0RbG/IXJ94Sjvl1dRt8Dyfw2Q7xb34yZfMr/ctl8wKOC06tIXDSDcsCezRDVcdeciEQ26jslnjs9nVzRdM3tp5jg3TfErG1D6xZqh+Mvzu87dgtMVr2PXly+M9xC5sl9+v9IPCVS+aG/X82fXMKn6VuhqKlk3SPa4u9xKKxKsiFQESZ0AHMBIiFXoSuvKPPpsBUbrCJrecOPG9mtql3OpId7OcOt/KPu35JeOcJWyLHfvjUKeGIK6vb4Hs44YmXGt5qRqOuWxT+7/d9lmp4DHRM1WlVx15yIRBbxxYOFd0X9SdRp1fFilO2nsMzKDUmDdTJ/P62COQ3ErKNvrdN6VcGQiDvrkw4ZHbKcmoNga9fPi98NO5x/uqrr2UDUkLZVEEuBCLKxOxgJkAMjyLERhDkryKgmzGr1K2sSJ17PU9+BycTrr2OS5H3RxWESsjohzfdE9569BZVm133Y2ME/uniOeFTiSGdiMZVxV5yIRDbJI3d0biZ+r/6pYvnZEIg/RD6z1H87oei2qLqGCPFa9ydOfMutqZm687adnetMApjHDZiy04GRVWFQ7bn1vWIOy1utUaoKdnoqgpyIRBRJnATnRZhUIQYCZEf4+Jg03tPnhyOGrfQd8MqCTSLmVjUZIQg/7sz3a3R8GjniHsoem0jC4eMw4TTwAgwC2A2YMT2kqgrqyAXAhHlNJRrEeBx1cRIiyBg8dFg0rtOmBiO/fWScOs9fbthFbVjDGYd61D2QedtPfpK9bJ1qH831ZH9uVkwZlR1OGR7bl2PHzltasD124jZflXBIV0IRNRhpDBwDMTtEkGzEAAsjqEMZhWDSbg1fv/GZWHWqr7ZC0en9hFg9MWiJqNvXn1XeN+Pb7WffmwDAbZmJXSEkasqDYnWjvmZFHa/r11aTewlFwKxjXANhYHjKtou2f6g5iE0mP69LGyinix0MsHFjMCpfQRYzJQGOcOtcR93a2wfyBACe1sQRM7IFl9W4TJtz6zzkYWKrBUwqtJJwYVARH1F3FSERWPtku1KxWIxVDUwk8EiQhwgBAh5YBuhFKnzYNWvTuUSciMNd+xujcVaj42Y6JOEkzbiW+BaVeGQ7bl1PbJamNm90SEXzA6fS9Zd2PXBOLoQiKgSLoJO++sFD7aNs60xYHMSPEw+nY8UWvUAACAASURBVBgb2y5sgAxPPvdiVk+Cn7HzEHVm6u3UPgIsZsK118jdGg2J9o5Pv/BS1g/ZWMZo2ooN2TUiYjr1j4CtC2B2b4SXIVEBqiAXAhHl+zb2MVQCybVLv0wikLLnL1Kdhh0MIuwxjJ8Vyra8nPUCTu0jwBaIqRseG6ODrbs1toflhqd/l+HGtqdGc9Y8nl27fWUxbzsrpxeO7GZIv2N3Q6N8LCa7PhhHFwIRVUJI0xCElG6XzCeamPRmEFvz2LPtFtNSejZAoZ7XzX8gi37JOSuHndpHINsMffyWzdDPm9q3RSLL9p1aR4DN5emHY5OtOU1FOmmZ26sGQrLRYO5bYxduFZV1oDLK3HchENErs70grnEYdqBFD/R5Gd20+KEy7dI0790PPZV9cOMXP5RFv8QrCYO0U3sIbJ6CJ0vzfQV2exha6nsffTrrk2yRaGT2qirCqNgz63pspNYlmu1fRp4y2O/lQiAibNL44gKqFfb5/fhPp2UlYbhlc5LTEubSyUZccN8T2Qd32z2PZsXuddyELJpoJ5/RC2XZFDydRdVpY6FuaqNGm6DY7GBcMjvopjp3U10aCVGMxOxvUQW5EIgol9ljlvUBBHQzYgk9IQkGg2xtwMxVfbpWFqmxr4BTewg88Wyfgf2i27fYU8ytsQ57SrT3toOb2rZDxBhs1MhOYPf8uDUCpj1IVWfM7quKEOxCILaHjQxT48zWTdX8F2Ec0OEZHX7l/EHb8YsZAPrX+ff1BbrDzZHY7U7tIfDQpj4bEAZ2Iwsnvmz9U3bJjy0ggPGXPokx2Mg8hi6Yttou+bEJAo1C1tiud797uW/XuyZZO3LZhUCE0Xydz0x8nVtBGN3yW0aPDz9KFsqwWTkfxTMdiJvCB4Z+1QhbA2VjG4BQQw3WrMOeORyPGO7B8VcLtniDWSRZE7Dd/t7MCtOZzFDVlxEsWDKiNSr6PVn+XjreFiMYp/2OdgXTwQ5BA86dEAL7SVohaZWkUdqWdpI0Nt6fI2n3XJIRkp6VdFRyfaAyk6R9pyNHjizVb2wlbrsxvDc+0+cel7pp2kKZTsT0YZbxjV9uGenDtOgc5n1U5crCUgB3WWYzsKcG/NkxiODMgkEEq37FT5wxPRuA2B7JVT/fntdsVz4GR+kqYkvvx60RyA/suGubVOESPthUVghsL2m1pD0l7ShpkaS9chz6cElj4rWDo0BIk1wr6ZpECLRSZpo/Oy8rBACape/t7gdgzARvHSMzlE1YsuWa3WvniGDiQ2LXJiPrHKgzoPyOTpbOj/0jkDewk5rFfgjYOoThsDAn1LfoHhj9I9T6XdbWUA/W2qSUjyeU3vPzLQhcG/HD/dvIBnvpNbvX6WNZIbCvpIkJRx4tib+UuE86aAdJGyVtF39/RtKpko5PhEArZcbsWw6dEALZRg6J33grYE9tsDKyjKdR+kxbHUwwKSObJmLYhPBMSu9bOj/2j0DewE7qex7e4n7bf+6hv0uICwYIMF9Wjw8lXT57XVaPR5/aetSK00IaWXQo69jNz26EHwNI2tbUvoNZ/7JC4EBJF25hxTpU0tnJb06XStotucbMYVdJvy9pdjymQqCVMpPi+k47IQSKjFxYIJMfBTGCR6CwkXkZIvgWZaMSMspvKZnfHcvSdduRSKvYN2AKROssupdzp96rkR42XYjXqecMRjkYC4lRhQMCfaOqkMPN3uXn01dn/XTT81uHUP/rH90ajrx6yx4DzfL3+nWM53zneCgaNeqfdq/Tx6EUAj+R9PnIzYsKgcPiC8wbMWJEaWzecXz7u/mYFT+vl/3gKbeV3rTcdNQIFAQLRHwROoz9/u613b+hNwuGYFrUG9/nt3/v5uycCJ7LH95i9C7dgG0UYCOt1BMoDcnRRlGVJ0X1CJYYstkDAQ+xoST7BvKeLPkY+UNZx25+NoH3aE+M6Ub27VdhnyorBFpR3TRTB90uaV382yTpCUnfiKqjgVRMgzITyG+MYQ3S35HYM4021P6H82eVjgJ446K+j50OYqEMmF0gFIyIVQRT7WZi17UPnzolC9ONsGTEiAGeeiN4CbdRNREoEFzTNQGmfusGj5v+8GAHNHaeIsaRhbpABTlU1MynnV3avhz3HcaBwiOKNm4hPAv/9OjxW92sMkx8WSGAjn+NpD0Sw/DeOQ59RM4wPC53n5/pTKCVMrcpohPqoCJbujESY3FYnpgGs1FEGbp01tqMUcGsWFoOHXf9ksD+o0YYsjFo28zArnfLEabfzOBuXiWpa2Gr9WYx0gdOuS3MW7fFN73VvKRrtDqYuoJ1uoq4nTKrSMveFaxIN68bGzHaCvIq6pB/BqtbCZqYpwPPm5lF1WXNALMCbBjE6HLaGgHsOwQzTMlC2zMQHGwqKwRgxvtLWhm9hI6J3PlESQfE852j9w8upHOjJ1GeiadCoFmZ+Txb/e6EECiiw/z7c/s6er6hYM50+jIRKU31A2MiIBfE3sIIK6NmU3G7P9RHW016S4NAYg/GoH0Iu3aJcATgAh5FiPAg5E9H0AhSrg1WyI8i9cznYTEjdbQZDHv4IhTadW3Ol1vmN1udou7LE6vo2cOZsMgMBPhLY+bn01fxm3U9Zb7Jwagj4czf/YNJWxVdJqrxVgW18KMTQmArZjxUPzohBNDjt2tkYzvCRit2L4seE4zcihJGVD54/vBCglgzQD2NzFsIVUY3khkNCdCXJ5guMf0xFLdLYA4uzIpSXWqr5RgzNTWb5SviIWZ5B/sIA2P2wwg7JRYMppuUp/eqOP/PcQu3cl6wZ7I9ovVfdtvj28L5IjWAWtp2jhjwizBy8EMwfX7MrEL5m9WRmQ5qYVReRYhvmj2FU7KAlngODTa5EEgQbteQBRNr5gVkG83gj16UMJwS7pgPibg2EB+WBavjdyO1RtHnDUY+PFj6U4ux2jkVaq3UAdzZBhIXRLApErOekTN5YQwpFXEOSPMP5rl5jKTROnkeI0lG4uAyFHTElfO3YWLUA+YGxjgvUDdbP4MdoygxIyamTpFAj1fPvS+rD3VK9z5oVJd8v2iUxq6Zd0+6qY7da+XYyM3bwm4wiBpsciGQIAxzbWdzZ5Z006EaNZQt5klXpCaPaukUVRNrAHiGdXpGMunOZRb0rFv3ckXFxgYZzchG5Klapllau276UkaX6KLTvVktzUDHk2+6O7z16C0GdkvPtDzdbcyucxwqJmt1wMiK4Msb0m1To3Ubtyw2sjxVHNMouunzYLq0fVpfFjcy+8OTCLdhVJ4f/smUlr3EvvqLudn3kA6E0mc2O2eUzqzxoPNmZQssceZoNDslP2FfGLjk1z00KhthwSCGbzQ/Q2uUvtE1MPnsOTO2ulVl2A0XAgn0nzxzesDzolWymOk2Sk/zWZTKMgt56Fx8RFlo6rhnAB0NzyMjdO10QLMZ2PVuOD4WQ2r0F0SsiGHTVGDYFP71inkZY0zVAzDDgVREzfYTRt2S7jtsODJ6xSc/ZWh2r4ojOmJGwOkWhPZc3FzpA436oaVpduR9iEhLuQRB/OJFczKvNotS2yxfep2BCeFLWiFbXEmMLhgy9cZtGMFA+On+yKJtfvS0qVm+dtaa8G7Y6PhmsacwAGjUzizOskV4CN2BBP/0lX3baP7t6dOy77SISggB8I8/3xKF2DCgHu1GMLC87RxdCCRoMcKmQ7dKM+7ti57I6tM80XlQFZUxhKE/hVmxYQ2bTEC43aWCCj9iPiQiEXYbWWCxNLpkvo7o5FMhl7/f6DeGRtOhohrh/e0ZfJSUl24b2agMVBSolPLEx4waLiVjGjynk8KWKT9eZKjMmNXAzJupIXANxrDaKJYMI2pmRLgL90fk5Vmo4P7lsnkZw2c/Ct6LshFynzrr9szxgBlHqwwNAcDe2q0Q3wWjeJ7JsxFcrBVBDYcAbjY6p2zandE8wgImfsJvt2zM3uzZPM8YtXlUkRbjP3XgGzZiIAEP4HszdSGzLCMEZn5dC32F9ITuoLx0dzXLN9ARPJhN5QkX6lbeMZ+v3d8uBBLEGGGjgmmVLL7Hqg3PNMwCo+KjK0Lmroj3D9NlU6lgt8At1WhzDJzlfZvM2PVuOJ568/KMuRCmuz9C5dWq8GWED/MwoUikVuwmMEBGyzATRsxvO/amrTx/8s/HsIxRP0/sDcFo2AgmcsgFs7Py+Mg7Zaij3vQ1RnswX8rmj1FhfkRMX4D5pe1u9bMjo+qBRuO4F/M8mA7CjiOqtIlLH94q4i3hM2CyqEZ5//7ImF87u9vBeGF6FgSR8omgyYyAOjWKvmt+83wPEFiw81ajGR/9jZE/qkjeA1xp67QfgilChzIQRLynuWTzXSOMaXfqxMySBY8syqMss2kgVBGeqBbJv+/Jk9tSJ/Me2BEos9GIH0Gc3yuEZ6J+7m92nQHUxj8XAglYuLohfZuNxpKk2emYuCctI7pGRCfK6/oapWt0zdwnMfx+7tyZWYckHR079aZhZEInqsKfuFE9+7sGYyfS5UCEFxQ62lZwN5fTNDgfemIYKQwEIUAAODBh4/hmxEgYtUKeDhozK/Mesevs5UxZeHthfP32NcVcUq08jrh1otaDgZjNiHUgPAMc6INm/CUtKkXq0GjGaeXCREiDAGNzlzzzZlSPYGy1/ubVhV6/GTFyRoWKyzL1LEvUm1lc2r+tTFQzCEL71myWmW7EQlrsdAhXysFgDYPGnmbrbKw8jqiGEPrghl6emTd91rDjG6QtwI009C9mI5zz7dO/GHBY4DyELGlTYZM+L39u7t0MFBsJMwSXYcFMn77J83g+f/nBQr78Vn+7EEiQMu+BViP3oaqh4zSjI8felY0Omt3v77qNfOjkqUdQfnRAR6BDdNs2fjB0GFp+JNPonc3nn232BiL78NI46xbFkg+fqT/Ex8o0vdkHiUslqrU8HXrRnMy3nevYdSiDETbvA4OFEbRCGBVRBRqDsDyov/iYEQCNBDftycCBNmUBkX3wPNeYk5WVHnlPDJqouMgDc06N7ab+aAVjyuV9UfEwEm72PVxxR1/gOBNYaX2Knp8xqS+EApE1Id7ZBJLNArgO02QUn86OwBycGP2nUX37qwuCjBkA3zHq27xxnTaiTPoYaVG9IVzAGIafzhpN7ZQXTPZ8jOE4NTCAYSZLGdglKLMRfez0vlk/mgaEEcZqQkzYc4p6I+Wf5UIgQcRc2FjJ2go1G01aXlOH0HnaJRvNou5JF5PQWVPdrxlfiyy4ardOlp7R+ED6Ygt+N3bu/Zat6dH2WG1Fn8oImtFbSggEVGbo1Y1styZG140I1V8jbw705cy2WMqPpxDM2iI5wkgRNPm1BfnyUaegGuAj52iMBUbNcymjP8YJU+ADR1XD6mXUFSlDzz8v/Q2jAUdUZDBxmCX1ZRTdjucbZbK6l5kVahALXW7PQkBSJj73/QknS9/qkW+FMhE+9AsGWuAIs8/HJkJfDsPHOYJROEKBfEVchlmB3qqHHe2DepZ64QpuhM0AZp16l1Eug0vUXzajIB9/o65b1O96Bewz9FFUwAxGmJkYMYBJvQTtepGjC4EENRqRGB4/vOme5Grz0/zewvmUFiK2kTEvnzb/26KTMjKkPnR2PjZ0uukuZnzgdCjTU+bL6fRvOjV1gMH09/FbjHRGPgORzRoGCjuMrphnpwY+KztfF36zWhUPq7wQRtjzUVlcGyuDoy1Cg/kzm7CZBfds7YcZodN8do73C4IaAYJuGRUSggAc8ABhOk/cosEmwx8maquji4TYYBDC+2DfMpdJjjBlMELgdZr4XsCNkTl9mxkVfSRP5oZNGhgsg7JOGu7zz0t/IwgaPYtZAjHI6GP0Jfor9WMUj6Ci7cnXyO6Rls85M0bygnPeW8uiCaeCIZ+/1d8uBHJIMY1u1UiJW1t/OlYbzafbxuUe1/SnNTJM3oxHFuCMKbMRHwcdpapQB6af5pkwuUbEiJcPAOaRZ8CN0nMNzAfaF8H08/3pxtPyLdomnh4WswbVE8wFGwIfap4Y9TOrauSlggDkvRutC6Ec3F35YHkPGznj8cOImdE/AgC1QlXESJn6YkhvNOtptR4ID8ogRhbtykCJd+nP5tJq2c3S8e0wqk5nd43SMtNkb+hmar9GeQbzGrM2MOePWQltQB/ID1JaqQOqJspp5GZuYc+b9cVWyrc0LgQMiXjEdZCPdqBGY5rNh9BfzBYYCo3YSPebe+w2P0+8YVnWibhhswIrL68LxD2wjCvqNg/v5wJCkqigTEUZ8ZhuHmGEOx0zBPPIaDTSblY0OMIom80caA+eizF3oLaxZyCAMBLaR8lojHMM9gOps6yM/JFRPSth84SqApUUxrz8KI8RK3rlVtRd+XLL/Ga0isGTd07VFkXKZPZDPzN1ZDM7QZGym+VpNPpvlrZbrmMgR+2G/cK+jaJ1o78w62/W33G6aMebsVk9XAjkkLGYP428CdKk3OfjwnunGdnIvYi0ZsRlLozmCWEzi7z+H11okVWzjerdn+7ZFsexWItRNEwbAxfxkRjJgwfMDoFErHvc8FolVAwYvWGkeSZKGbYTWH94N3oWHxAeVLQBQonRK8yxKKFywLUwTyx+4v15724ivGkQAM0YSTt1pZ0btU07ZXjaziGAIwB9zmadRUt2IZBDzvzumWL2R+aq2N9Hz4fH6IlRfbuE/tj8vs0X22wMeWMrhsxO7OCEYYzZTb58qzujEtQdGKMhprqkx3iIThZvkTLMBkaPYEGvmi8HN1CEXTuCxerdyaOFubDtPSmbUTGG2KJrQjpZPy+rdxDAawghYCFlir65C4EccjAZGN1Ai19spWoz9YUVy2YqttDLrrVyZERtqwhZVENjmy943rMEVzJGqGXJFr/hmpjXiTM1RxWSrlZmVMhsBRVRq54VA9XRbCGpLpgVu7x/f6q3gcrt1H1boW1RXRFWzILQX5eJGNup+nk5vYUAfKKMvQe0XAg06DMAmzK7Bkk2G2sHCouLTtZG9I3KaXatbz3Aouw2ukWYIAtHOLLCMyW8YPBvTwl9+CUz1mQ6egxMeHOwcKY/PSteNwhAdPqMxlPCO4Fn5wUQuvD8qD3N1+459cMrh3rgLYSnCCon6oRhdqiJ9gYH1D+8t20NmAqtoa6jP793EMBJhNl4mW/DhUCD/sKS80ZxZdKk+OpjJBuIiLWebgIzUHruwwhRi7DOwH7DFPExhwGxsjIljLHpaAB9PT7GpEWg4cpqRtH+Fgth0MLwagt20t2q2LyF961CHYMeG3c6vFDw5EHV0p8XVopFFefYLRBUxCcCY+w3rXpBVVE/f0bvIIAtDVtdGXIh0AA986s2v+gGSTL1C4s4BiLUSjD0doyRGGdhLqmuD304Bkmuz1279ZaKMCT8uBmNokLiecwkiHdio3SLNMm1ZkQZROVkdM+7ITgwpFI+jLjoLl7NnjfQddZIIJDxGS/b0Qd6Vjv3bUZGWzTzYW+nPE/rCAwlAi4EGqAPk+UD78+tDhVMK+sJrryjbyML81Nv8LhtLmFn4Pkpw4Ypm+tlfpEKI1HS84eO/qQblmWbuacFw9hZuNIoUBXpGOEjPGy9ARjwm6kmswOYcZFFb2kdhsu5hRfJu+oOl/fz9+gtBFwINGhvDJ4wv3RRVj4ZK0JbUVGgUoE5Y1BslUz/nq4StNjrlJUfFWOUhTFZeIJmzyFyJKP6RmRrEFLBgxtsJwKDNXpena8xu2pHqNf5Xb3uwx8BFwJN2hi9b7NYK7ZQzEbNTYrILmPUbTfGCowYZp96HhG3nGv8oSYpQgSrQsXTiMzbaTDCADR6nl9zBByB7kDAhUCTdmBTbEILNCIL85xuONEonV2zaIssKW+FzCaRLtwi2JQJgaKeAObjvun5bUNfs7MU6h/URk6OgCPQOwi4EGjS1havp1F4AWKpwJD7WyiWFovnCN46eBxZPPT0fv7coo+m7py4b5oQaKWMfJn8to3KGwVAw4WUNQ1OjoAj0FsIuBBo0t6ml8+7Y5Lc1DX5reaaFJVdZn8A7AytrB5utPUhOwmZEEAdVYQw7FJGPuwEZWF4JoyykyPgCPQWAp0QAvtJWiFplaRR2pZ2kjQ23p8jafeY5N2SFsa/RZI+m2RdJ2lJvDcvud70dOTIkR1tOVQmMExWsObJGHIjtUo+bfqbDVbw9yfODyEgEAyNCDdP/PtTso1T8PApShg0sU/kN3ohhHZ/nkNFn+f5HAFHoPsRKCsEtpe0WtKeknaUBDPfK8epD5c0Jl47OAoEfr5O0g7x+pskbUh+IwR2zZXT789OCwGajs008JvPEzFzCK1rPvj5+81+E2+GIGbsuGWjerx68sQKY2IHpWTB41pZoJbmy5+z4Cy/gtkCw1UR5z5fH//tCDgCQ4tAWSGwr6SJCXceLYm/lLhPOgimv1HSdvG3HfaQ9Gi3CQEEAIIgT+jPia1elBAeuF8S86dRKFh8/fH9T8kC2xG+uQyxyQhxzlN7g8XdbxRfv8yzPK8j4Ah0PwJlhcCBki40Ti7pUElnJ785XSppt+QaMwcb5b9H0jJJz+bUQWslLZA0X9JhSd78KfdQF80bMWJEx9G2jaDzccGJpd/KQrGBKmTlp7sDYYgmXEK6exjlsAaA2QMRQ8uQLXRK1xRY/JEqQkKUqbvndQQcgc4jMNRCwJj6n0uaK2nneOHN8fjGqGL6gCVsdhwMdRBGYRhvumiLJiAWUCdCKBhjT1eemmDILwgzG0UroSr66ya2gX0aKptgcY1i5PdXjt9zBByB4YFAWSHQKXUQvP02Sfs0YPLHSzqqwfWtLg2GEGBUjhDAEGxEDKAsvMLEvuBudr3okQ2jcR+F8PphbULeHsA9VEgYlQnbXIbYhg8vpXRrQIzQxOt3cgQcgd5DoKwQQMe/RhI6fTMM770Vd5aOyBmGx8X75DHD8J9IeiiqiV4v6Q0xDeezJOGB1C8NhhCgOxBDn5W2RoQLQDC0ulDM8jU72noEZgVsQ0nZ7CTWiAgKl0YLbZSmlWsEirP9BxBqxCRiM3snR8AR6D0EygoBGPP+klZGL6FjIqc+UdIB8RwVzzXRRRSVD55EEPYD7AG4iaL//0y8zn28jPjjvpUZbzc+DJYQIHREagS2hWIsvOoE2epj1EDEB8Io3CwsMYbkTtgiMGx/8JTbstmFqbyurXAD9E7g5mU4Ao5AZxDohBBozJUrvjpYQsCMpra36g2L+uL6dDLGzmfPYdP2SdksoL/9iFmklsb4L9oF7J2Y5TDzwBDd3z4DRZ/j+RwBR6D7EXAhMEAbmX++xfCHScM4210o1t9jLFYQ+xF3stxmz5x/3xMBV1NmOewnXDQWUbPy/boj4AjUBwEXAgO0FRvLwPRh1Gz4DvPEeNvuQrH+HsMzbCVxf+n8niPgCDgCnUbAhUALiBL4zTZ1QZfeqU3V00ezUYzH7k8R8XNHwBGoAgEXAi2gzKbzzAbYy/fJ515sIYcncQQcAUegHgi4EGihnbAHEEiuaPTOFh7hSRwBR8ARGBIEXAgMCez+UEfAEXAEugMBFwLd0Q5eC0fAEXAEhgQBFwJDArs/1BFwBByB7kDAhUB3tIPXwhFwBByBIUHAhcCQwO4PdQQcAUegOxBwIdAd7eC1cAQcAUdgSBBwITAksPtDHQFHwBHoDgRcCHRHO3gtHAFHwBEYEgRcCAwJ7P5QR8ARcAS6A4FhIwQkPRZfJttzuIXzdS2kabWsuqTrxXembXrxvXvxnb2t457rbfI2eGdPEh2m16gX35k27sX37sV39rbuNY5W8n178SPpxXd2xlDyQ6lZ9l7s4734zh3plr0IXC++swuBjnwutSmkF/t4L75zRzrkYR0ppV6F9OI700K9+N69+M7e1vXiR15bR8ARcAQcAUfAEXAEHAFHwBFwBBwBR8ARcAQcAUegCgT2k7RC0ipJo6p44CA/439JmiLpbknLJP1HfN4fSZok6d54/MN4fTtJZ8b3XyzpL5P6/VNMTx7Ou522l3SXpBtjRfeQNCe+21hJO8brO0niN23O/d2TFxsdr9MnPp5c78bT/yHpWknLJd0jaV9JvdDOR8a+vVTSVZJ2ljQc2/piSRsk8Z5GnWzfkZKWxP4OD4AX9BzBNFZL2jMyiEWS9qo5Cm9KGPkbJK2M73RKIuQQdj+O77m/pAmxA7w3MkVu0dnWxCMCg3MTHN0K0bck/TIRAuMkHRwrO0bSv8bzwyXxG+I+AgGi7ekDCAmYCn2DPtKtdKmkr8XKIeAQCsO9nd8saa2k/xbfmzb+kqTh2NYfiN9yKgQ62b5zJfHNw/zhAZ/o1o4+mPVi5DQxeQCjQP6GE/1G0sfibAcBAXFkpAudL+mQeM6B69znGveM8unserccd5N0q6S/iUKAjr1R0g6xgmlb0+b8hrhPOtLn2z9NF5N3zeG/R2aYH71Z+1HR4djOCIEH4uCEtmPWx4xtuLY1s9RUCHSqfekbzCCN8t+7XR/2xwMlXZi85aGSzk5+1/2UDnS/pD+QtCl5GRiH/eYjel9yD0a6j6SjJB2bXD8uXksuddUpahGmtx+KjGHXOM21SqIms4+JI0LDiBE/6Wn7L9hFSRdJoo90I71LEiO5X0QVGP349Um7Uufh2M68FyrOZ2NomCtj26HaMxpObZ0XAvbd8q5l2pdvfLIBJun9yQw6uTz8T4ezEPh9SfMl/X1sxrTzcOnJeH04CIG/k3RufJ9eEQJ8xK9Iek98759JOiknBIZbO/M+qCRvk/THkn5P0vVRcPeiECjTvi4E4oeTqgi4lFcHxGS1O/BxoMpAR27UqWmklddNxx9KejAGhntE0vOSGCEOVxUB2P/P+L7WDozkxifqPK4PR3XQQXGGZu/9RUnnDeO2zs8EOvUduzoo9iB0ihg8MQJiWMMouLf1rpoemSJeJumMXP1PzRmGMTBBn8wZhlExQBiGMcAx8uKPc651O9lMpq74+wAAASBJREFUgHpekzMMYxCGjsgZhjEqQrR9ahimb3SzYfh2SW+LdT9eEm083NuZmQ9eb6+L6hCM4/82jNs6LwQ62b55wzBOIj1JvDgeNOiFjxkGCKDfD5Jw91wY/3jHXaLhFHdPdIHG0BEa58T3x12MaaLRV6Jenan2l+1ilx9TIYDXFx2d+iMQ8PqBcCnkN9e5Tzoj+gB9gRFXt3tLYBcgTgxtjVoEYd0L7XxCNGpi27k8tutwbGvcXx+W9HKc6X61w+3Ltw6G9HfsYfACJ0fAEXAEHAFHwBFwBBwBR8ARcAQcAUfAEXAEHAFHwBFwBBwBR8ARcAQcAUfAEXAEHAFHwBFwBBwBR8ARcAQcAUfAEXAEHAFHwBFwBBwBR8AR6BEE/j8E9iBX7QKH2QAAAABJRU5ErkJggg==)"
      ]
    },
    {
      "cell_type": "code",
      "metadata": {
        "id": "rrHXpceVh_q2"
      },
      "source": [
        "import time\n",
        "\n",
        "# 실행시간 측정하기"
      ],
      "execution_count": null,
      "outputs": []
    },
    {
      "cell_type": "code",
      "metadata": {
        "id": "uPD5zSjViD4g"
      },
      "source": [
        "from matplotlib import pyplot as plt\n",
        "\n",
        "# 도표 그리기"
      ],
      "execution_count": null,
      "outputs": []
    }
  ]
}