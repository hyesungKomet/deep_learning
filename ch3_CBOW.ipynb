{
  "nbformat": 4,
  "nbformat_minor": 0,
  "metadata": {
    "colab": {
      "name": "ch3_CBOW.ipynb",
      "provenance": [],
      "mount_file_id": "15jonFdlRDNz5ozCSdZGmVO4_fZm6KEpD",
      "authorship_tag": "ABX9TyPkicAwQmyBvfc1YsNo0vkK",
      "include_colab_link": true
    },
    "kernelspec": {
      "name": "python3",
      "display_name": "Python 3"
    },
    "language_info": {
      "name": "python"
    }
  },
  "cells": [
    {
      "cell_type": "markdown",
      "metadata": {
        "id": "view-in-github",
        "colab_type": "text"
      },
      "source": [
        "<a href=\"https://colab.research.google.com/github/hyesungKomet/deep_learning/blob/main/ch3_CBOW.ipynb\" target=\"_parent\"><img src=\"https://colab.research.google.com/assets/colab-badge.svg\" alt=\"Open In Colab\"/></a>"
      ]
    },
    {
      "cell_type": "markdown",
      "metadata": {
        "id": "WKjp3GyNI7x5"
      },
      "source": [
        "## 마운트"
      ]
    },
    {
      "cell_type": "code",
      "metadata": {
        "colab": {
          "base_uri": "https://localhost:8080/"
        },
        "id": "jA7jr-3gIl_H",
        "outputId": "e7dfc9de-d4a9-4c50-8e21-b886ac1f7809"
      },
      "source": [
        "%cd /content/drive/MyDrive/machine_learning"
      ],
      "execution_count": null,
      "outputs": [
        {
          "output_type": "stream",
          "text": [
            "/content/drive/MyDrive/machine_learning\n"
          ],
          "name": "stdout"
        }
      ]
    },
    {
      "cell_type": "code",
      "metadata": {
        "colab": {
          "base_uri": "https://localhost:8080/"
        },
        "id": "ajLU-EO-IoWL",
        "outputId": "26966fdc-17e1-49e2-b876-a4224f634710"
      },
      "source": [
        "%cd deep-learning-from-scratch-2"
      ],
      "execution_count": null,
      "outputs": [
        {
          "output_type": "stream",
          "text": [
            "/content/drive/My Drive/machine_learning/deep-learning-from-scratch-2\n"
          ],
          "name": "stdout"
        }
      ]
    },
    {
      "cell_type": "code",
      "metadata": {
        "id": "4MVE6i9rIv9E"
      },
      "source": [
        "import sys\n",
        "sys.path.append('..')\n",
        "from common.util import preprocess\n",
        "import numpy as np"
      ],
      "execution_count": null,
      "outputs": []
    },
    {
      "cell_type": "markdown",
      "metadata": {
        "id": "MX-jy9VVLHIY"
      },
      "source": [
        "## 전처리"
      ]
    },
    {
      "cell_type": "code",
      "metadata": {
        "colab": {
          "base_uri": "https://localhost:8080/"
        },
        "id": "afowSzluJGqj",
        "outputId": "911f9fb2-4442-4ff4-d887-bae557b03478"
      },
      "source": [
        "text = 'You say goodbye and I say hello.'\n",
        "corpus, word_to_id, id_to_word = preprocess(text) #전처리\n",
        "print(corpus)\n",
        "print(id_to_word)"
      ],
      "execution_count": null,
      "outputs": [
        {
          "output_type": "stream",
          "text": [
            "[0 1 2 3 4 1 5 6]\n",
            "{0: 'you', 1: 'say', 2: 'goodbye', 3: 'and', 4: 'i', 5: 'hello', 6: '.'}\n"
          ],
          "name": "stdout"
        }
      ]
    },
    {
      "cell_type": "markdown",
      "metadata": {
        "id": "RfDopX3WLBUd"
      },
      "source": [
        "## 맥락, 타겟 생성 함수"
      ]
    },
    {
      "cell_type": "code",
      "metadata": {
        "id": "qbUcVR3OJPwy"
      },
      "source": [
        "def create_contexts_target(corpus, window_size = 1):\n",
        "  target = corpus[window_size:-window_size] # 1부터 -1 : 두번째~마지막두번째\n",
        "  contexts = []\n",
        "\n",
        "  for idx in range(window_size, len(corpus) - window_size):\n",
        "    cs = []\n",
        "    for t in range(-window_size, window_size + 1):\n",
        "      if t==0: #target에 해당하는 id는 제외\n",
        "        continue\n",
        "      cs.append(corpus[idx+t]) #[0,2], [1.3] 등등이 됨\n",
        "    contexts.append(cs) #위의 1차원 배열이 추가되어 2차원이 됨\n",
        "\n",
        "  return np.array(contexts), np.array(target) # contexts는 s를 꼭 붙이기!"
      ],
      "execution_count": null,
      "outputs": []
    },
    {
      "cell_type": "code",
      "metadata": {
        "colab": {
          "base_uri": "https://localhost:8080/"
        },
        "id": "s-eWlQu1K9Jx",
        "outputId": "92ecfed3-05d5-439b-a15b-8abddb70a739"
      },
      "source": [
        "contexts, target = create_contexts_target(corpus, window_size=1)\n",
        "\n",
        "print(contexts)\n",
        "print(target)"
      ],
      "execution_count": null,
      "outputs": [
        {
          "output_type": "stream",
          "text": [
            "[[0 2]\n",
            " [1 3]\n",
            " [2 4]\n",
            " [3 1]\n",
            " [4 5]\n",
            " [1 6]]\n",
            "[1 2 3 4 1 5]\n"
          ],
          "name": "stdout"
        }
      ]
    },
    {
      "cell_type": "markdown",
      "metadata": {
        "id": "HXqxf27GQe7f"
      },
      "source": [
        "## 원핫 표현으로 변경"
      ]
    },
    {
      "cell_type": "code",
      "metadata": {
        "id": "W4CmOG11LVPz"
      },
      "source": [
        "from common.util import convert_one_hot # 단어 id 목록, 어휘 수를 인수로!\n",
        "\n",
        "vocab_size = len(word_to_id)\n",
        "target = convert_one_hot(target, vocab_size)\n",
        "contexts = convert_one_hot(contexts, vocab_size)"
      ],
      "execution_count": null,
      "outputs": []
    },
    {
      "cell_type": "code",
      "metadata": {
        "colab": {
          "base_uri": "https://localhost:8080/"
        },
        "id": "DtGuxX09NQn5",
        "outputId": "f27a1294-7451-4d8e-c86d-ca31df765d75"
      },
      "source": [
        "print(target) # 6x7\n",
        "print()\n",
        "print(contexts) # 6x2x7"
      ],
      "execution_count": null,
      "outputs": [
        {
          "output_type": "stream",
          "text": [
            "[[0 1 0 0 0 0 0]\n",
            " [0 0 1 0 0 0 0]\n",
            " [0 0 0 1 0 0 0]\n",
            " [0 0 0 0 1 0 0]\n",
            " [0 1 0 0 0 0 0]\n",
            " [0 0 0 0 0 1 0]]\n",
            "\n",
            "[[[1 0 0 0 0 0 0]\n",
            "  [0 0 1 0 0 0 0]]\n",
            "\n",
            " [[0 1 0 0 0 0 0]\n",
            "  [0 0 0 1 0 0 0]]\n",
            "\n",
            " [[0 0 1 0 0 0 0]\n",
            "  [0 0 0 0 1 0 0]]\n",
            "\n",
            " [[0 0 0 1 0 0 0]\n",
            "  [0 1 0 0 0 0 0]]\n",
            "\n",
            " [[0 0 0 0 1 0 0]\n",
            "  [0 0 0 0 0 1 0]]\n",
            "\n",
            " [[0 1 0 0 0 0 0]\n",
            "  [0 0 0 0 0 0 1]]]\n"
          ],
          "name": "stdout"
        }
      ]
    },
    {
      "cell_type": "markdown",
      "metadata": {
        "id": "lFrZSbsVQizS"
      },
      "source": [
        "## simpleCBOW"
      ]
    },
    {
      "cell_type": "code",
      "metadata": {
        "id": "3efBtD7kNT73"
      },
      "source": [
        "from common.layers import MatMul, SoftmaxWithLoss"
      ],
      "execution_count": null,
      "outputs": []
    },
    {
      "cell_type": "code",
      "metadata": {
        "id": "TdjezSH3OMLi"
      },
      "source": [
        "class simpleCBOW:\n",
        "  def __init__(self, vocab_size, hidden_size):\n",
        "    V, H = vocab_size, hidden_size\n",
        "\n",
        "    # 가중치 초기화\n",
        "    W_in = 0.01 * np.random.randn(V,H).astype('f') # float로 형 바꾸기 - 단어의 분산표현\n",
        "    W_out = 0.01 * np.random.randn(H,V).astype('f') # 32비트 부동소수점 수로 초기화\n",
        "\n",
        "    # 계층 생성\n",
        "    self.in_layer0 = MatMul(W_in)\n",
        "    self.in_layer1 = MatMul(W_in)\n",
        "    self.out_layer = MatMul(W_out)\n",
        "    self.loss_layer = SoftmaxWithLoss()\n",
        "\n",
        "    # 가중치, 기울기 리스트에 담기\n",
        "    layers = [self.in_layer0, self.in_layer1, self.out_layer]\n",
        "    self.params, self.grads = [], []\n",
        "    for layer in layers:\n",
        "      self.params += layer.params\n",
        "      self.grads += layer.grads\n",
        "\n",
        "    # 인스턴스 변수에 단어의 분산표현 저장\n",
        "    self.word_vecs = W_in\n",
        "\n",
        "  def forward(self, contexts, target): #contexts는 3차원, target은 2차원 배열로 가정\n",
        "    h0 = self.in_layer0.forward(contexts[:, 0]) # 정답레이블 기준 왼쪽 단어\n",
        "    h1 = self.in_layer1.forward(contexts[:,1]) #정답레이블 기준 오른쪽 단어\n",
        "    h = (h0 + h1) * 0.5\n",
        "    score = self.out_layer.forward(h)\n",
        "    loss = self.loss_layer.forward(score, target)\n",
        "    return loss\n",
        "\n",
        "  def backward(self, dout = 1):\n",
        "    ds = self.loss_layer.backward(dout) # 각각 MulMax, SoftmaxwithLoss의 backward 메소드 사용 - 기울기 갱신됨\n",
        "    da = self.out_layer.backward(ds)\n",
        "    da *= 0.5\n",
        "    self.in_layer1.backward(da)\n",
        "    self.in_layer0.backward(da)\n",
        "    return None "
      ],
      "execution_count": null,
      "outputs": []
    },
    {
      "cell_type": "markdown",
      "metadata": {
        "id": "86BmVtQOQUtl"
      },
      "source": [
        "## 옵티마이저 처리시 같은 가중치가 계속 쓰이기에 중복 제거해줌\n",
        "매개변수 배열 중 중복되는 가중치를 하나로 모아\n",
        "    그 가중치에 대응하는 기울기를 더한다."
      ]
    },
    {
      "cell_type": "markdown",
      "metadata": {
        "id": "aW6KqeLTVbJK"
      },
      "source": [
        "## 학습"
      ]
    },
    {
      "cell_type": "code",
      "metadata": {
        "id": "WTO0yhpSPebk"
      },
      "source": [
        "from common.trainer import Trainer\n",
        "from common.optimizer import Adam\n"
      ],
      "execution_count": null,
      "outputs": []
    },
    {
      "cell_type": "code",
      "metadata": {
        "id": "fTvjcqfeTRCQ"
      },
      "source": [
        "window_size = 1\n",
        "hidden_size = 5\n",
        "batch_size = 3\n",
        "max_epoch = 1000\n",
        "\n",
        "text = 'You say goodbye I say hello.'\n",
        "corpus, word_to_id, id_to_word = preprocess(text)\n",
        "\n",
        "vocab_size = len(word_to_id)\n",
        "contexts, target = create_contexts_target(corpus, window_size)\n",
        "target = convert_one_hot(target, vocab_size)\n",
        "contexts = convert_one_hot(contexts, vocab_size)"
      ],
      "execution_count": null,
      "outputs": []
    },
    {
      "cell_type": "code",
      "metadata": {
        "id": "likV6bC5Tx9W"
      },
      "source": [
        "model = simpleCBOW(vocab_size, hidden_size)\n",
        "optimizer = Adam()\n",
        "trainer = Trainer(model, optimizer)\n",
        "\n",
        "trainer.fit(contexts, target, max_epoch, batch_size)\n",
        "trainer.plot()"
      ],
      "execution_count": null,
      "outputs": []
    },
    {
      "cell_type": "markdown",
      "metadata": {
        "id": "NLZe-EkKUXZ5"
      },
      "source": [
        "## 학습 점검"
      ]
    },
    {
      "cell_type": "code",
      "metadata": {
        "colab": {
          "base_uri": "https://localhost:8080/"
        },
        "id": "J-Zm6n3eUDe1",
        "outputId": "c66b92d4-a316-4807-ccb3-89b32b636aad"
      },
      "source": [
        "word_vecs = model.word_vecs #word_vecs에 W_in, 즉 단어의 분산표현 저장됨\n",
        "\n",
        "for word_id, word in id_to_word.items(): #딕셔너리에서 key인 id와 value인 단어\n",
        "  print(word, word_vecs[word_id])"
      ],
      "execution_count": null,
      "outputs": [
        {
          "output_type": "stream",
          "text": [
            "you [-0.7735876  -0.8379491   0.77557456  0.8222838  -0.80081767]\n",
            "say [-0.00403866  1.1611474   0.39305916 -1.1360828   1.0862681 ]\n",
            "goodbye [-0.98396957 -0.05104873  0.9712033   0.1980111  -0.88927454]\n",
            "i [-0.93692654 -0.1067699   1.0296179   0.6362648   0.10957809]\n",
            "hello [-0.78331304 -0.8412493   0.75901616  0.8326869  -0.8260973 ]\n",
            ". [ 1.0314195   0.85285246 -1.0348856  -0.86508304  0.87489253]\n"
          ],
          "name": "stdout"
        }
      ]
    },
    {
      "cell_type": "code",
      "metadata": {
        "id": "-S8DpKToU48x"
      },
      "source": [
        ""
      ],
      "execution_count": null,
      "outputs": []
    }
  ]
}