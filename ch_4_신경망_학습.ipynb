{
  "nbformat": 4,
  "nbformat_minor": 0,
  "metadata": {
    "colab": {
      "name": "ch.4 신경망 학습.ipynb",
      "provenance": [],
      "authorship_tag": "ABX9TyOw+3IAi5qBUv+fP6TqlU7y",
      "include_colab_link": true
    },
    "kernelspec": {
      "name": "python3",
      "display_name": "Python 3"
    },
    "language_info": {
      "name": "python"
    }
  },
  "cells": [
    {
      "cell_type": "markdown",
      "metadata": {
        "id": "view-in-github",
        "colab_type": "text"
      },
      "source": [
        "<a href=\"https://colab.research.google.com/github/hyesungKomet/deep_learning/blob/main/ch_4_%EC%8B%A0%EA%B2%BD%EB%A7%9D_%ED%95%99%EC%8A%B5.ipynb\" target=\"_parent\"><img src=\"https://colab.research.google.com/assets/colab-badge.svg\" alt=\"Open In Colab\"/></a>"
      ]
    },
    {
      "cell_type": "code",
      "metadata": {
        "id": "96A6GYtl_NSD"
      },
      "source": [
        "import numpy as np"
      ],
      "execution_count": null,
      "outputs": []
    },
    {
      "cell_type": "markdown",
      "metadata": {
        "id": "7Zhb7jorkPhr"
      },
      "source": [
        "# 오차제곱합"
      ]
    },
    {
      "cell_type": "code",
      "metadata": {
        "id": "-LZvXLST2JQZ"
      },
      "source": [
        "def sum_squares_error(y, t):\n",
        "  return 0.5 * np.sum((y-t)**2)"
      ],
      "execution_count": null,
      "outputs": []
    },
    {
      "cell_type": "markdown",
      "metadata": {
        "id": "ONrEe0FB2LC4"
      },
      "source": [
        "# 교차 엔트로피 오차"
      ]
    },
    {
      "cell_type": "code",
      "metadata": {
        "id": "JsfJX69c3p2C"
      },
      "source": [
        "def cross_entropy_error(y, t):\n",
        "  delta = 1e-7\n",
        "  return np.sum(t*np.log(y+delta))"
      ],
      "execution_count": null,
      "outputs": []
    },
    {
      "cell_type": "markdown",
      "metadata": {
        "id": "mz3FN6sW31_n"
      },
      "source": [
        "# 배치용 교차 엔트로피 오차"
      ]
    },
    {
      "cell_type": "code",
      "metadata": {
        "id": "KUwh9WeR4zFd"
      },
      "source": [
        "def cross_entropy_error(y, t):\n",
        "  if y.ndim == 1:\n",
        "    t = t.reshape(1, t.size)\n",
        "    y = y.reshape(1, y.size)\n",
        "\n",
        "  batch_size = y.shape[0]\n",
        "  return -np.sum(t*np.log(y+1e-7)) / batch_size"
      ],
      "execution_count": null,
      "outputs": []
    },
    {
      "cell_type": "markdown",
      "metadata": {
        "id": "tsHFohcY5f7M"
      },
      "source": [
        "# 기울기"
      ]
    },
    {
      "cell_type": "code",
      "metadata": {
        "id": "u6C1-o-F5h2k"
      },
      "source": [
        "def numerical_gradient(f, x):\n",
        "  h = 1e-4\n",
        "  grad = np.zeros_like(x) #x와 형상 같고 0 들어간 배열\n",
        "\n",
        "  for idx in range(x.size):\n",
        "    tmp_val = x[idx]\n",
        "    x[idx] = tmp_val + h\n",
        "    fxh1 = f(x)\n",
        "\n",
        "    x[idx] = tmp_val - h\n",
        "    fxh2 = f(x)\n",
        "\n",
        "    grad[idx] = (fxh1 - fxh2) / (2*h)\n",
        "    x[idx] = tmp_val\n",
        "\n",
        "  return grad"
      ],
      "execution_count": null,
      "outputs": []
    },
    {
      "cell_type": "code",
      "metadata": {
        "colab": {
          "base_uri": "https://localhost:8080/"
        },
        "id": "7XeqUj-qKtzK",
        "outputId": "7766a5d3-aa8d-4ad1-b8c0-eaeb85cf2a55"
      },
      "source": [
        "def function(x):\n",
        "  return x[0]**2 + x[1]**2\n",
        "\n",
        "numerical_gradient(function, np.array([3.0, -4.0]))"
      ],
      "execution_count": null,
      "outputs": [
        {
          "output_type": "execute_result",
          "data": {
            "text/plain": [
              "array([ 6., -8.])"
            ]
          },
          "metadata": {
            "tags": []
          },
          "execution_count": 9
        }
      ]
    },
    {
      "cell_type": "markdown",
      "metadata": {
        "id": "0MdRXKTa6JLN"
      },
      "source": [
        "# 경사하강법"
      ]
    },
    {
      "cell_type": "code",
      "metadata": {
        "id": "TCS8rv9Z6Ox6"
      },
      "source": [
        "def gradient_descent(f, init_x, lr=0.01, step_num=100):\n",
        "  x = init_x\n",
        "\n",
        "  for i in range(step_num):\n",
        "    grad = numerical_gradient(f, x)\n",
        "    x -= lr * grad\n",
        "  return x"
      ],
      "execution_count": null,
      "outputs": []
    },
    {
      "cell_type": "code",
      "metadata": {
        "colab": {
          "base_uri": "https://localhost:8080/"
        },
        "id": "8q1oBUil-ija",
        "outputId": "32224572-68fe-4de6-d09f-adc25f1a945a"
      },
      "source": [
        "def function(x):\n",
        "  return x[0]**2 + x[1]**2\n",
        "\n",
        "x= np.array([3.0, -6.0])\n",
        "gradient_descent(function, x, lr=0.1)"
      ],
      "execution_count": null,
      "outputs": [
        {
          "output_type": "execute_result",
          "data": {
            "text/plain": [
              "array([ 6.11110793e-10, -1.22222159e-09])"
            ]
          },
          "metadata": {
            "tags": []
          },
          "execution_count": 11
        }
      ]
    },
    {
      "cell_type": "code",
      "metadata": {
        "colab": {
          "base_uri": "https://localhost:8080/"
        },
        "id": "O_urW3Gk-_z2",
        "outputId": "159bc95b-9ed5-49cc-dc2a-cff2920395a4"
      },
      "source": [
        "#learning rate 높은 경우\n",
        "x= np.array([3.0, -5.0])\n",
        "gradient_descent(function, x, lr = 10)"
      ],
      "execution_count": null,
      "outputs": [
        {
          "output_type": "execute_result",
          "data": {
            "text/plain": [
              "array([2.58459459e+13, 1.80220317e+12])"
            ]
          },
          "metadata": {
            "tags": []
          },
          "execution_count": 12
        }
      ]
    },
    {
      "cell_type": "code",
      "metadata": {
        "colab": {
          "base_uri": "https://localhost:8080/"
        },
        "id": "1yTixZ0x_xNg",
        "outputId": "42af6bef-2ce5-423c-eed1-8375c4a2ce70"
      },
      "source": [
        "#learning rate 낮은 경우\n",
        "x= np.array([3.0, -5.0])\n",
        "gradient_descent(function, x, lr=0.0001)"
      ],
      "execution_count": null,
      "outputs": [
        {
          "output_type": "execute_result",
          "data": {
            "text/plain": [
              "array([ 2.94059014, -4.90098356])"
            ]
          },
          "metadata": {
            "tags": []
          },
          "execution_count": 13
        }
      ]
    },
    {
      "cell_type": "code",
      "metadata": {
        "id": "kqA1sr2i_163"
      },
      "source": [
        "import sys, os\n",
        "sys.path.append(os.pardir)\n",
        "import numpy as np"
      ],
      "execution_count": null,
      "outputs": []
    },
    {
      "cell_type": "code",
      "metadata": {
        "id": "1mlRkdQYVcyM"
      },
      "source": [
        "def softmax(x):\n",
        "  c = np.max(x)\n",
        "  exp_x = np.exp(x - c)\n",
        "  sum_exp_x = np.sum(exp_x)\n",
        "  y = exp_x / sum_exp_x\n",
        "  return y"
      ],
      "execution_count": null,
      "outputs": []
    },
    {
      "cell_type": "code",
      "metadata": {
        "id": "OXUqSWtcNv5_"
      },
      "source": [
        "class simpleNet:\n",
        "  def __init__(self):\n",
        "    self.W = np.random.randn(2,3) #정규분포에서의 난수 생성\n",
        "\n",
        "  def predict(self, x):\n",
        "    return np.dot(x, self.W) # W*x\n",
        "\n",
        "  def loss(self, x, t):\n",
        "    z = self.predict(x)\n",
        "    y = softmax(z)\n",
        "    loss = cross_entropy_error(y, t)\n",
        "    return loss"
      ],
      "execution_count": null,
      "outputs": []
    },
    {
      "cell_type": "code",
      "metadata": {
        "colab": {
          "base_uri": "https://localhost:8080/"
        },
        "id": "sBhgKgWgORXD",
        "outputId": "40ff9fe2-a3e2-4712-fe24-ccb7c6fec2f2"
      },
      "source": [
        "net = simpleNet()\n",
        "x = np.array([0.6, 0.9])\n",
        "\n",
        "print(\"가중치: \\n\", net.W)\n",
        "p = net.predict(x)\n",
        "print(\"x*W: \", p)\n",
        "print(np.argmax(p))\n",
        "t = np.array([0,0,1])\n",
        "net.loss(x, t)\n"
      ],
      "execution_count": null,
      "outputs": [
        {
          "output_type": "stream",
          "text": [
            "가중치: \n",
            " [[-0.74913594  0.55967376 -0.21354801]\n",
            " [ 1.7853604   0.299224   -0.58715308]]\n",
            "x*W:  [ 1.1573428   0.60510586 -0.65656658]\n",
            "0\n"
          ],
          "name": "stdout"
        },
        {
          "output_type": "execute_result",
          "data": {
            "text/plain": [
              "2.3670323603288193"
            ]
          },
          "metadata": {
            "tags": []
          },
          "execution_count": 20
        }
      ]
    },
    {
      "cell_type": "markdown",
      "metadata": {
        "id": "6OVfp0rjZTg1"
      },
      "source": [
        "# 다차원 배열을 처리할 수 있는 numerical_gradient 함수"
      ]
    },
    {
      "cell_type": "code",
      "metadata": {
        "id": "Q2bktZclZRLh"
      },
      "source": [
        "def numerical_gradient(f, x):\n",
        "    h = 1e-4 # 0.0001\n",
        "    grad = np.zeros_like(x)\n",
        "    \n",
        "    it = np.nditer(x, flags=['multi_index'], op_flags=['readwrite'])\n",
        "    while not it.finished:\n",
        "        idx = it.multi_index\n",
        "        tmp_val = x[idx]\n",
        "        x[idx] = tmp_val + h\n",
        "        fxh1 = f(x) # f(x+h)\n",
        "        \n",
        "        x[idx] = tmp_val - h \n",
        "        fxh2 = f(x) # f(x-h)\n",
        "        grad[idx] = (fxh1 - fxh2) / (2*h)\n",
        "        \n",
        "        x[idx] = tmp_val # 値を元に戻す\n",
        "        it.iternext()   \n",
        "        \n",
        "    return grad"
      ],
      "execution_count": null,
      "outputs": []
    },
    {
      "cell_type": "code",
      "metadata": {
        "colab": {
          "base_uri": "https://localhost:8080/"
        },
        "id": "reGy39MmOT4Z",
        "outputId": "d10eecc0-8610-4f46-bd9d-193bf73e95bd"
      },
      "source": [
        "def f(W):\n",
        "  return net.loss(x, t)\n",
        "dW = numerical_gradient(f, net.W)\n",
        "print(dW)"
      ],
      "execution_count": null,
      "outputs": [
        {
          "output_type": "stream",
          "text": [
            "[[ 0.34508975  0.19865459 -0.54374435]\n",
            " [ 0.51763463  0.29798189 -0.81561652]]\n"
          ],
          "name": "stdout"
        }
      ]
    },
    {
      "cell_type": "code",
      "metadata": {
        "id": "sRwGQjd9V8y8"
      },
      "source": [
        ""
      ],
      "execution_count": null,
      "outputs": []
    }
  ]
}