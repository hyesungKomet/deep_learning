{
  "nbformat": 4,
  "nbformat_minor": 0,
  "metadata": {
    "colab": {
      "name": "Backpropagation.ipynb",
      "provenance": [],
      "authorship_tag": "ABX9TyPGuhS7Dxp/kGtWi9zOCW9Y",
      "include_colab_link": true
    },
    "kernelspec": {
      "name": "python3",
      "display_name": "Python 3"
    },
    "language_info": {
      "name": "python"
    }
  },
  "cells": [
    {
      "cell_type": "markdown",
      "metadata": {
        "id": "view-in-github",
        "colab_type": "text"
      },
      "source": [
        "<a href=\"https://colab.research.google.com/github/hyesungKomet/deep_learning/blob/main/Backpropagation.ipynb\" target=\"_parent\"><img src=\"https://colab.research.google.com/assets/colab-badge.svg\" alt=\"Open In Colab\"/></a>"
      ]
    },
    {
      "cell_type": "code",
      "metadata": {
        "id": "vf0ejGA5Cy-F"
      },
      "source": [
        "import numpy as np"
      ],
      "execution_count": null,
      "outputs": []
    },
    {
      "cell_type": "code",
      "metadata": {
        "colab": {
          "base_uri": "https://localhost:8080/"
        },
        "id": "Y2PGPLYtDIO2",
        "outputId": "cad7ed8d-8306-4754-9713-f64c2148fba3"
      },
      "source": [
        "X = np.array([[2,9], [1,5], [3,6]], dtype=float)\n",
        "y = np.array([[92], [86], [89]], dtype=float)\n",
        "\n",
        "#스케일링(정규화)\n",
        "X = X/np.amax(X, axis=0)\n",
        "y = y/100\n",
        "print(X)\n",
        "print(y)"
      ],
      "execution_count": null,
      "outputs": [
        {
          "output_type": "stream",
          "text": [
            "[[0.66666667 1.        ]\n",
            " [0.33333333 0.55555556]\n",
            " [1.         0.66666667]]\n",
            "[[0.92]\n",
            " [0.86]\n",
            " [0.89]]\n"
          ],
          "name": "stdout"
        }
      ]
    },
    {
      "cell_type": "code",
      "metadata": {
        "id": "orNDkRzxD7Fw"
      },
      "source": [
        "class NeuralNetwork(object):\n",
        "  def __init__(self):\n",
        "    #파라미터들\n",
        "    self.inputSize = 2\n",
        "    self.outputSize = 1\n",
        "    self.hiddenSize = 3\n",
        "\n",
        "    self.W1 = np.random.randn(self.inputSize, self.hiddenSize) #2X3\n",
        "    self.W2 = np.random.randn(self.hiddenSize, self.outputSize) #3X1\n",
        "\n",
        "  def Forward(self, X):#정방향\n",
        "    self.z = np.dot(X, self.W1)\n",
        "    self.z2 = self.sigmoid(self.z) #활성화함수로 시그모이드\n",
        "    self.z3 = np.dot(self.z2, self.W2)\n",
        "    output = self.sigmoid(self.z3)\n",
        "    return output\n",
        "\n",
        "  def sigmoid(self, s, deriv=False):\n",
        "    if(deriv == True): #오차역전파일 때\n",
        "      return s*(1-s)\n",
        "    return 1/(1+np.exp(-s))#너무 큰 값 나오지 않도록 조정한 시그모이드\n",
        "\n",
        "  def backward(self, X, y, output):\n",
        "    self.output_error = y - output#output부터 거꾸로!\n",
        "    self.output_delta = self.output_error * self.sigmoid(output, deriv=True)\n",
        "\n",
        "    self.z2_error = self.output_delta.dot(self.W2.T)#전치행렬 - 행과 열을 바꾼다!\n",
        "    self.z2_delta = self.z2_error * self.sigmoid(self.z2, deriv=True)\n",
        "\n",
        "    self.W1 += X.T.dot(self.z2_delta)\n",
        "    self.W2 += self.z2.T.dot(self.output_delta)\n",
        "\n",
        "  def train(self, X, y):\n",
        "    output = self.Forward(X)\n",
        "    self.backward(X, y, output)\n"
      ],
      "execution_count": null,
      "outputs": []
    },
    {
      "cell_type": "code",
      "metadata": {
        "id": "FPzpTEyqK_wy"
      },
      "source": [
        "NN = NeuralNetwork()"
      ],
      "execution_count": null,
      "outputs": []
    },
    {
      "cell_type": "code",
      "metadata": {
        "colab": {
          "base_uri": "https://localhost:8080/"
        },
        "id": "bCqwv2LELMaT",
        "outputId": "da25a853-dc66-4edf-e87c-e64bde3dffe7"
      },
      "source": [
        "for i in range(1000):\n",
        "    if(i%100==0):#매 100회마다 출력\n",
        "      print(\"Number: \", i)\n",
        "      print(\"W1: \", NN.W1)\n",
        "      print(\"W2: \", NN.W2)\n",
        "      print(\"output: \", NN.Forward(X))\n",
        "      print(\"Loss: \", np.mean(np.square(y - NN.Forward(X))))#손실함수 - 오차제곱합\n",
        "      print()\n",
        "    NN.train(X, y)\n",
        "\n",
        "print(\"Input: \", X)\n",
        "print(\"ActualOutput: \", y)\n",
        "print(\"Loss: \", np.mean(np.square(y - NN.Forward(X))))\n",
        "print()\n",
        "print(\"Predicted Output: \", NN.Forward(X))"
      ],
      "execution_count": null,
      "outputs": [
        {
          "output_type": "stream",
          "text": [
            "Number:  0\n",
            "W1:  [[ 0.37334594  0.91811317  0.58094961]\n",
            " [ 0.18670564 -0.25993013  0.86157878]]\n",
            "W2:  [[-0.23459017]\n",
            " [ 0.91657023]\n",
            " [ 0.13488612]]\n",
            "output:  [[0.62258341]\n",
            " [0.61157072]\n",
            " [0.64064324]]\n",
            "Loss:  0.07078417438992611\n",
            "\n",
            "Number:  100\n",
            "W1:  [[0.38421901 1.11718628 0.64371879]\n",
            " [0.20949727 0.01218291 0.95199516]]\n",
            "W2:  [[0.43719502]\n",
            " [1.62075602]\n",
            " [0.9817853 ]]\n",
            "output:  [[0.89627014]\n",
            " [0.86678051]\n",
            " [0.90603328]]\n",
            "Loss:  0.0002887158799756326\n",
            "\n",
            "Number:  200\n",
            "W1:  [[0.38186339 1.11502429 0.63702269]\n",
            " [0.2172313  0.04149027 0.96033154]]\n",
            "W2:  [[0.43500799]\n",
            " [1.61264903]\n",
            " [0.98804504]]\n",
            "output:  [[0.89711371]\n",
            " [0.86737307]\n",
            " [0.90625912]]\n",
            "Loss:  0.00028083445394392215\n",
            "\n",
            "Number:  300\n",
            "W1:  [[0.37933119 1.11204744 0.6299434 ]\n",
            " [0.22446661 0.06873754 0.96797617]]\n",
            "W2:  [[0.43057028]\n",
            " [1.60248921]\n",
            " [0.99132523]]\n",
            "output:  [[0.8973544 ]\n",
            " [0.86735598]\n",
            " [0.90595386]]\n",
            "Loss:  0.00027381977559905033\n",
            "\n",
            "Number:  400\n",
            "W1:  [[0.37687246 1.10906769 0.62290135]\n",
            " [0.23151195 0.09500788 0.97545192]]\n",
            "W2:  [[0.42621053]\n",
            " [1.59283494]\n",
            " [0.99455601]]\n",
            "output:  [[0.89757546]\n",
            " [0.86733814]\n",
            " [0.90565554]]\n",
            "Loss:  0.0002672680669789042\n",
            "\n",
            "Number:  500\n",
            "W1:  [[0.37448804 1.10609192 0.61590106]\n",
            " [0.23838044 0.12036407 0.98277242]]\n",
            "W2:  [[0.42194795]\n",
            " [1.58367918]\n",
            " [0.99777162]]\n",
            "output:  [[0.89778478]\n",
            " [0.86732612]\n",
            " [0.90536963]]\n",
            "Loss:  0.0002611379048832244\n",
            "\n",
            "Number:  600\n",
            "W1:  [[0.37217588 1.10311813 0.60894211]\n",
            " [0.24508094 0.14485351 0.98994468]]\n",
            "W2:  [[0.41777501]\n",
            " [1.57498748]\n",
            " [1.00097193]]\n",
            "output:  [[0.8979833 ]\n",
            " [0.86731938]\n",
            " [0.90509531]]\n",
            "Loss:  0.000255392358938222\n",
            "\n",
            "Number:  700\n",
            "W1:  [[0.36993399 1.10014471 0.60202404]\n",
            " [0.25162154 0.16852034 0.9969752 ]]\n",
            "W2:  [[0.41368466]\n",
            " [1.56672806]\n",
            " [1.00415662]]\n",
            "output:  [[0.89817182]\n",
            " [0.86731738]\n",
            " [0.90483178]]\n",
            "Loss:  0.0002499984162590674\n",
            "\n",
            "Number:  800\n",
            "W1:  [[0.36776042 1.09717046 0.59514644]\n",
            " [0.25800967 0.19140579 1.00387002]]\n",
            "W2:  [[0.40967052]\n",
            " [1.5588719 ]\n",
            " [1.00732545]]\n",
            "output:  [[0.89835106]\n",
            " [0.86731961]\n",
            " [0.90457828]]\n",
            "Loss:  0.0002449265086310478\n",
            "\n",
            "Number:  900\n",
            "W1:  [[0.36565332 1.09419452 0.5883089 ]\n",
            " [0.26425221 0.21354835 1.0106348 ]]\n",
            "W2:  [[0.40572683]\n",
            " [1.55139243]\n",
            " [1.01047831]]\n",
            "output:  [[0.8985217 ]\n",
            " [0.86732564]\n",
            " [0.90433415]]\n",
            "Loss:  0.00024015010178127553\n",
            "\n",
            "Input:  [[0.66666667 1.        ]\n",
            " [0.33333333 0.55555556]\n",
            " [1.         0.66666667]]\n",
            "ActualOutput:  [[0.92]\n",
            " [0.86]\n",
            " [0.89]]\n",
            "Loss:  0.00023564533836298359\n",
            "\n",
            "Predicted Output:  [[0.89868434]\n",
            " [0.86733507]\n",
            " [0.90409877]]\n"
          ],
          "name": "stdout"
        }
      ]
    },
    {
      "cell_type": "code",
      "metadata": {
        "id": "El6bScR2MUEl"
      },
      "source": [
        ""
      ],
      "execution_count": null,
      "outputs": []
    }
  ]
}